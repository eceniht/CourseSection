{
 "cells": [
  {
   "cell_type": "markdown",
   "metadata": {},
   "source": [
    "# <center>Dance with AI <br> AI導航:基礎入門篇</center>\n",
    "### <font color ='red'>學習新技能的最佳方式是先找到需要解決的問題，然後即刻使用它，你不需要完全掌握技能後才使用它，我們都是在邊使用中邊學習</color>。"
   ]
  },
  {
   "cell_type": "code",
   "execution_count": null,
   "metadata": {},
   "outputs": [],
   "source": [
    "# -*- coding: UTF-8 -*-\n",
    "%autosave 120\n",
    "import sys\n",
    "print(sys.version)"
   ]
  },
  {
   "cell_type": "markdown",
   "metadata": {},
   "source": [
    "## 本書目錄\n",
    "\n",
    "* [前言](#前言)\n",
    "* [1. Python - 我們與電腦溝通的語言](#1.-Python---我們與電腦溝通的語言)\n",
    "    * [1.1 什麼是程式語言?為什麼要學程式語言?](#1.1-什麼是程式語言?為什麼要學程式語言?)\n",
    "    * [1.2 為什麼選用Python語言](#1.2-為什麼選用Python語言)\n",
    "    * [1.3 安裝與建構Python編寫環境](#1.3-安裝與建構Python編寫環境)\n",
    "    * [1.4 什麼是IDLE](#1.4-什麼是IDLE)\n",
    "    * [1.5 什麼是Anaconda](#1.5-什麼是Anaconda)\n",
    "    * [1.6 認識Jupyter Notebook](#1.6-認識Jupyter-Notebook)\n",
    "* [2. 變數、函數及輸入](#2.-變數、函數及輸入)\n",
    "    * [2.1 使用變數](#2.1-使用變數)\n",
    "    * [2.2 使用字元串](#2.2-使用字元串)\n",
    "    * [2.3 使用整數](#2.3-使用整數)\n",
    "    * [2.4 使用浮點數](#2.4-使用浮點數)\n",
    "    * [2.5 组合字元串、整數和浮點數](#2.5-组合字元串、整數和浮點數)\n",
    "    * [2.6 建構自己的函數](#2.6-建構自己的函數)\n",
    "    * [2.7 獲取使用者的輸入](#2.7-獲取使用者的輸入)\n",
    "    * [2.8 總結](#2.8-總結)\n",
    "* [3. 你的第一個程式-撰寫一個計算機](#3.-你的第一個程式-撰寫一個計算機)\n",
    "    * [3.1 計算機的四個基本功能](#3.1-計算機的四個基本功能)\n",
    "    * [3.2 兩個數字的操作與計算](#3.2-兩個數字的操作與計算)\n",
    "    * [3.3 兩個數字的操作與減法、乘法與除法計算](#3.3-兩個數字的操作與減法、乘法與除法計算)\n",
    "    * [3.4 尋找餘數-模除計算](#3.4-尋找餘數-模除計算)\n",
    "    * [3.5 一個較完美的計算機函數與程式](#3.5-一個較完美的計算機函數與程式)\n",
    "    * [3.6 總結](#3.6-總結)\n",
    "* [4. Python的控制流程](#4.-Python的控制流程)\n",
    "    * [4.1 比較運算符號](#4.1-比較運算符號)\n",
    "    * [4.2 條件語句 - if, elif, else](#4.2-條件語句---if,-elif,-else)\n",
    "    * [4.3 用迴圈 - while, for來重複動作](#4.3-用迴圈---while,-for來重複動作)\n",
    "        * [4.3.1 使用while迴圈來控制程式](#4.3.1-使用while迴圈來控制程式)\n",
    "        * [4.3.2 使用for迴圈來控制程式](#4.3.2-使用for迴圈來控制程式)\n",
    "    * [4.4 使用exception檢測無效的數字輸入](#4.4-使用exception檢測無效的數字輸入)\n",
    "    * [4.5 跳出迴圈以及返回迴圈的頂部](#4.5-跳出迴圈以及返回迴圈的頂部)\n",
    "        * [4.5.1 製作一個數字時鐘](#4.5.1-製作一個數字時鐘)\n",
    "        * [4.5.2 製作一個猜數字遊戲](#4.5.2-製作一個猜數字遊戲)\n",
    "    * [4.6 總結](#4.6-總結)\n",
    "* [5. 數據的存放結構](#5.-數據的存放結構)\n",
    "    * [5.1 Python Lists(列表)](#5.1-Python-Lists&#40;列表&#41;)\n",
    "    * [5.2 Python Dictionaries(字典)](#5.2-Python-Dictionaries&#40;字典&#41;)\n",
    "    * [5.3 何時使用列表或字典](#5.3-何時使用列表或字典)\n",
    "    * [5.4 Python Numpy 陣列(Arrays)](#5.4-Python-Numpy-陣列&#40;Arrays&#41;)\n",
    "    * [5.5 總結](#5.5-總結)\n",
    "    * [遊戲 - 猜猜在你的背包裡有什麼?](#遊戲---猜猜在你的背包裡有什麼?)\n",
    "* [6. 用Python繪圖-使用Turtle Graphics](#6.-用Python繪圖-使用Turtle-Graphics)\n",
    "    * [6.1 以矩形為基底繪製一個機器人](#6.1-以矩形為基底繪製一個機器人)\n",
    "    * [6.2 烏龜排隊](#6.2-烏龜排隊)\n",
    "    * [6.3 使用重複簡單動作的程序繪製一朵花](#6.3-使用重複簡單動作的程序繪製一朵花)\n",
    "    * [6.4 星夜的40顆星星](#6.4-星夜的40顆星星)\n",
    "    * [6.5 突變的彩虹](#6.5-突變的彩虹)\n",
    "    * [6.6 色彩繽紛的萬花筒螺旋](#6.6-色彩繽紛的萬花筒螺旋)\n",
    "    * [6.7 聖誕樹](#6.7-聖誕樹)\n",
    "* [7. 用Python寫遊戲-使用pygame](#7.-用Python寫遊戲-使用pygame)\n",
    "    * [7.1 安裝pygame](#7.1-安裝pygame)\n",
    "    * [7.2 初始化pygame](#7.2-初始化pygame)\n",
    "    * [7.3 製作固定物體](#7.3-製作固定物體)\n",
    "    * [7.4 製作移動物體](#7.4-製作移動物體)\n",
    "    * [7.5 總結](#7.5-總結)\n",
    "* [8. 用Pygame寫迷你版網球遊戲](#8.-用Pygame寫迷你版網球遊戲)\n",
    "    * [8.1 遊戲編程準則](#8.1-遊戲編程準則)\n",
    "    * [8.2 導入需要的Python模組、定義全域變數、靜態物體的基本繪圖](#8.2-導入需要的Python模組、定義全域變數、靜態物體的基本繪圖)\n",
    "        * [8.2.1 導入需要的Python模組及初始化](#8.2.1-導入需要的Python模組及初始化)\n",
    "        * [8.2.2 導入全域變數](#8.2.2-導入全域變數)\n",
    "        * [8.2.3 調整畫面尺寸](#8.2.3-調整畫面尺寸)\n",
    "        * [8.2.4 繪製畫面](#8.2.4-繪製畫面)\n",
    "        * [8.2.5 設定球的起始位置、速度和方向以及大小](#8.2.5-設定球的起始位置、速度和方向以及大小)\n",
    "        * [8.2.6 設定球拍的起始位置和大小](#8.2.6-設定球拍的起始位置和大小)\n",
    "        * [8.2.7 初始化分數](#8.2.7-初始化分數)\n",
    "        * [8.2.8 測試](#8.2.8-測試)\n",
    "    * [8.3 移動球拍](#8.3-移動球拍)\n",
    "        * [8.3.1 建立迴圈前的工作](#8.3.1-建立迴圈前的工作)\n",
    "        * [8.3.2 以按鍵來移動球拍的事件處理](#8.3.2-以按鍵來移動球拍的事件處理)\n",
    "        * [8.3.3 測試](#8.3.3-測試)\n",
    "    * [8.4 球的移動](#8.4-球的移動)\n",
    "        * [8.4.1 更新球的位置](#8.4.1-更新球的位置)\n",
    "        * [8.4.2 抵觸與碰撞的檢測](#8.4.2-抵觸與碰撞的檢測)\n",
    "        * [8.4.3 測試](#8.4.3-測試)\n",
    "    * [8.5 繪製畫面及更新分數](#8.5-繪製畫面及更新分數)\n",
    "        * [8.5.1 畫面的連續呈現](#8.5.1-畫面的連續呈現)\n",
    "        * [8.5.2 顯示玩家的得分](#8.5.2-顯示玩家的得分)\n",
    "    * [8.6 結束程式](#8.6-結束程式)\n",
    "    * [8.7 玩 Tiny Tennis](#8.7-玩-Tiny-Tennis)\n",
    "    * [8.8 總結](#8.8-總結)\n",
    "* [9. 保持編寫](#9.-保持編寫)    \n",
    "    * [9.1 我們學到了什麼，接下來的步驟](#9.1-我們學到了什麼，接下來的步驟)\n",
    "    * [9.2 其他遊戲](#9.2-其他遊戲)\n",
    "    * [9.3 Python的其他用途](#9.3-Python的其他用途)\n",
    "    * [9.4 總結](#9.4-總結)"
   ]
  },
  {
   "cell_type": "markdown",
   "metadata": {},
   "source": [
    "## 前言\n",
    "#### 我們生活在一個數位化的世界中，電腦已然成為我們日常生活的一部分。就在不久前，電腦仍是台笨重、嘈雜的機器，因為只能放在桌上使用，因此被稱為桌機(desktop computer)。但是到了現在，它們可能只是個小型裝置，安靜的隱藏在我們的手機、汽車、電視，甚至是手錶中。我們用它們來工作、玩遊戲、看電影、購物，或是做為與親朋好友聯繫的設備。今日的電腦使用起來非常容易且輕鬆，任何人都可以操作它們。但並不是所有人都知道如何透過編寫代碼，讓電腦為我們完成特定的工作。\n",
    "#### 成為一名程式設計師，可以深入了解電腦是如何工作的。通過學習程式，您可以建構自己的應用程式、編寫自己的遊戲、或是經由修改其他人的程式，客製化屬於自己的一個創作。寫程式除了可以成為令人上癮的嗜好外，程式設計這門技術，在各行各業都有著巨大的需求。無論您對科學、藝術、音樂、體育還是商業感興趣，學習並了解如何設計程式，無論未來您投身於何種領域，程式設計的能力將成為您的一大優勢。\n",
    "#### 現實世界中，程式語言有數百種，從教學用的簡單拖放式語言Scratch，到專門用於網頁的程式語言JavaScript等五花八門。本書教授的程式語言為目前世界上使用最為廣泛的程式語言之一--Python，不論是學生或專業人士，Python在各領域都受到熱烈的歡迎，最根本的原因就是因為Python不僅容易上手，且功能也多樣、強大。無論您是正要接觸程式設計的初學者，或是準備從Scratch進階到其他程式語言的學習者，Python都是一門很值得學習與投資的程式語言。\n",
    "#### 學習程式設計的最佳方式就是\"沉浸其中\"，這也正是本書的設計方式。只需按照編號的步驟操作，您可以立即建構出應用程式、遊戲、圖形或謎題。如果能讓您在學習的過程中感到開心，學習程式設計將會變得更加容易，因此我們盡可能將題目設計得有趣。\n",
    "#### 如果您是程式設計新手，請從頭開始，並逐步完成每一個步驟。如果您不了解某些細節，不需要太過擔心，隨著設計的程式越多，您會漸入佳境。如果程式在第一次執行時出現錯誤或是沒有產生預期的作用，也請不要擔心，因為即便是專業人士，也必須經常為程式除錯。解決錯誤是學習程式設計的必經過程。一旦完成每個程式項目的建構，您可以嘗試調整或跟動您的程式碼，使新的程式碼在執行後，能獲得自己預期的結果。事實上，學習程式設計(programming)的目標是解決問題，將程式與要解決的問題聯繫起來很重要。通常會有多種不同的程式設計方法來解決問題，隨著您設計過的程式種類越多，您會擁有越來越多種程式設計方法去解決不同的問題。藉由想像力和程式設計的技巧，程式能實現的結果或目標是沒有極限的。"
   ]
  },
  {
   "cell_type": "markdown",
   "metadata": {},
   "source": [
    "[回本書目錄](#本書目錄)"
   ]
  },
  {
   "cell_type": "markdown",
   "metadata": {},
   "source": [
    "## 1. Python - 我們與電腦溝通的語言"
   ]
  },
  {
   "cell_type": "markdown",
   "metadata": {},
   "source": [
    "### 1.1 什麼是程式語言?為什麼要學程式語言?\n",
    "#### 什麼是程式語言(programming language)\n",
    "- #### 如果要與電腦溝通，我們就必須需要使用電腦能懂(理解)的語言。程式語言能夠幫助我們與電腦“交談”，並對它下達指令(instruction)。\n",
    "- #### 程式設計(programming)就是告訴電腦要做什麼。電腦是一台沒有生命的機器，它們不知道該做什麼事，一切都需要人來告訴它們該做甚麼事，而且必須把詳細作法都說清楚。不過，一旦給電腦 ”下達” 了正確的指令，它們就能完成很多令人驚奇的事情。所謂的指令，就是對電腦下達一個命令，要求電腦做某件特定的事情。\n",
    "- #### 電腦程式是由多個指令組合而成的，為什麼電腦能完成這麼多了不起的事情呢？這是因為有許多聰明的程式員編寫了程式或者軟體(software)來告訴它們該怎樣做。軟體就是在您的電腦上執行的程式，有時軟體也可能是執行在另一台與你的電腦相連的電腦上，比如Web伺服器。\n",
    "- #### Python就是一種電腦程式語言。所有電腦在內部都使用二進制。不過大多數人都不擅常使用這種語言。我們需要一種更簡便的方法來告訴電腦要做什麼。所以人們發明了程式語言。利用電腦編程語言，我們可以先用一種自己能理解的語言來撰寫程式，然後再把它翻譯成二進制供電腦判讀。在數百種不同的程式語言中，本書專注於教你如何使用其中的一種語言(Python)來告訴電腦要做什麼。\n",
    "\n",
    "#### 為什麼要學程式語言(programming)\n",
    "- #### 程式設計是每個孩子都應該學習的重要技能。我們使用電腦來解決問題、玩遊戲、提高我們的工作效益、執行重複性的任務、儲存和讀取資訊、創造新事物，以及與朋友和世界聯繫。了解如何編寫程式，操控電腦的力量就唾手可得。\n",
    "- #### 您將來不一定會成為一名專業的程式設計師(大多數人都不會)，不過還是有很多原因值得您學習程式設計。\n",
    "- #### 最重要的原因是你想學！不論是當作業餘愛好或是謀生技能，程式設計都是件很有意思的事，你能從中獲益許多。\n",
    "- #### 如果是對電腦感興趣，想更加了解它到底怎麼工作?怎樣才能讓電腦做你想做的事情?這也不失為學習程式設計的好理由。\n",
    "- #### 也許您想製作自己遊戲，或者找不到能完全滿足您需求的程式，如果是這樣，你可能就會想要自己動手寫程式。\n",
    "- #### 如今電腦已經無處不在，工作中、學校裡或者在家裡都很有可能使用電腦(可能這三種場合都少不了電腦)。透過學習程式設計，幫助您從整體上更好地了解電腦。"
   ]
  },
  {
   "cell_type": "markdown",
   "metadata": {},
   "source": [
    "[回本書目錄](#本書目錄)"
   ]
  },
  {
   "cell_type": "markdown",
   "metadata": {},
   "source": [
    "### 1.2 為什麼選用Python語言\n",
    "#### 程式語言有相當多，為什麼會建議選擇 Python 作為初學者學習程式語言的首選？主要有以下幾個原因。\n",
    "- #### 最初建立Python語言的出發點就是為了便於學習。在我所見過的所有程式語言中，Python的程式碼是最容易閱讀、最容易編寫，也最容易理解的。\n",
    "- #### Python是免費的。你可以下載Python，還可以下載許多以Python編寫的既好玩又有用的程式，而且所有這些都是免費的。\n",
    "- #### Python是開源(open source)軟體。從某個角度來講，”開源”的含義是指任何用戶都可以擴展(extend)Python，也就是建立一些新”軟體工具”。創造出這些新工具後，就可以使用Python完成更多事情，或者儘管是做同樣的事情，但是有了這些新工具，事情會比原先更容易完成。現在已經有很多人做了這種擴展，目前已經有非常多的免費Python工具可以供你下載。\n",
    "- #### Python並不是一個”玩具”。確實，它非常適合學習編寫，不過實際上全世界每天都有成千上萬的專業人士在使用這門語言，甚至包括類似NASA(美國國家航空暨太空總署)的程式設計師。10所美國頂尖大學的電腦科學系，有8所採用Python作為入門語言。Google與多家網路公司的服務都採用Python作為開發語言。學會一種程式語言，在自學其他程式語言時，也更容易、更快速上手。\n",
    "- #### Python可以在各種不同作業系統的電腦上執行。在Windows、macOS或是各版本的Linux電腦上都可以使用Python。大多數情況下，如果一個Python程式可以在你家裡的Windows電腦上執行，那麼這個程式同樣也可以在你學校的蘋果電腦上執行。本書適用於幾乎所有安裝了Python的電腦。(而如果你要用的電腦上還沒有安裝Python，也可以完全免費安裝。)\n",
    "\n",
    "#### 功能強大的直譯式程式語言不只有 Python，為什麼我們單單要來介紹它呢？Python 在技術上有幾項特點：\n",
    "- #### 1. 容易撰寫: Python具有許多物件導向的特性，然而並沒有規定一定要用物件導向的方式撰寫。撇開物件導向的議題不談，Python 通常可以靠比較短的程式碼完成比較多的功能，或是讓人比較容易閱讀。\n",
    "- #### 2. 功能強大: Python自1990年由Guido van Rossum在荷蘭的CWI開始發展以來，不但累積了相當完整的標準程式庫(模組)，更有無以計數的非標準模組，而且絕大部分都是開放原始碼的。單以內建的模組來講，從簡單的數學運算、字串處理、網際網路協定連線、網際網路資料處理、各種壓縮格式，以及POSIX與主要作業系統的支援功能等等，囊括的範圍非常廣泛。\n",
    "- #### 3. 跨平台: 各種主流的作業系統都支援Python。Python程式常常不需要修改，便可以同時在Linux與Windows 平台上執行，即使撰寫GUI程式 (透過 PyGTK, wxPython等binding)也是一樣。所撰寫的Python程式透過標準的構建和安裝模組distutils進行包裝後，用標準的方式即可安裝於各種平台；在Windows下更可以自動產生方便的可執行 installer。\n",
    "- #### 4. 容易擴充: Python算是執行效率不錯的直譯式語言。雖然比不上C和Fortran，但是只要我們想，完全可以用C/C++或Fortran 撰寫高效率的模組；這些模組的使用方式，與內建模組以及用Python撰寫的模組完全一樣。更好的是，撰寫模組的方法並不困難。"
   ]
  },
  {
   "cell_type": "markdown",
   "metadata": {},
   "source": [
    "[回本書目錄](#本書目錄)"
   ]
  },
  {
   "cell_type": "markdown",
   "metadata": {},
   "source": [
    "### 1.3 安裝與建構Python編寫環境"
   ]
  },
  {
   "cell_type": "markdown",
   "metadata": {},
   "source": [
    "[回本書目錄](#本書目錄)"
   ]
  },
  {
   "cell_type": "markdown",
   "metadata": {},
   "source": [
    "### 1.4 什麼是IDLE"
   ]
  },
  {
   "cell_type": "markdown",
   "metadata": {},
   "source": [
    "[回本書目錄](#本書目錄)"
   ]
  },
  {
   "cell_type": "markdown",
   "metadata": {},
   "source": [
    "### 1.5 什麼是Anaconda\n",
    "- #### Anaconda可以便捷的獲取套件且對套件能夠進行管理，同時可以統一管理電腦還境的Python版本。\n",
    "- #### Anaconda包含了conda、Python在內的超過180個科學套件及其依賴項。"
   ]
  },
  {
   "cell_type": "markdown",
   "metadata": {},
   "source": [
    "[回本書目錄](#本書目錄)"
   ]
  },
  {
   "cell_type": "markdown",
   "metadata": {},
   "source": [
    "### 1.6 認識Jupyter Notebook\n",
    "- #### Jupyer Notebook是一個介於IDE(Pycharm, Spider)以及Editor(Sublime text, Atom, VScode, 記事本)之間的一個讓你可以寫code的工具。並利用直譯語言的特性，可以很容易的逐行執行並且做到資料視覺化，而且可輸出成 Html5嵌入到任何網頁，或是用notebook的形式分享。由於容易分享，許多資料分析、機器學習的平台(ex: Kaggle)上面的討論都是以Jupyter notebook的形式出現，並且支援多種主流的直譯語言像是Python, R, Julia。"
   ]
  },
  {
   "cell_type": "markdown",
   "metadata": {},
   "source": [
    "[回本書目錄](#本書目錄)"
   ]
  },
  {
   "cell_type": "markdown",
   "metadata": {},
   "source": [
    "## 2. 變數、函數及輸入"
   ]
  },
  {
   "cell_type": "markdown",
   "metadata": {},
   "source": [
    "### 2.1 使用變數"
   ]
  },
  {
   "cell_type": "markdown",
   "metadata": {},
   "source": [
    "#### 如果要編寫有用的程式碼，就需要能夠儲存和標記資訊。這就是變數的作用。變數適用於各式各樣的事情 - 從紀錄遊戲中的得分，到執行計算和持有項目列表。變數就像一個帶有名稱標籤的儲存箱。您可以在箱中儲存數據，然後在需要使用時再次使用該名稱查找數據。那麼該如何建立變數?\n",
    "- #### 每個變數都需要一個專屬的名稱，取一個可以讓你聯想到變數內容的名字。\n",
    "- #### 然後決定要在變數中存入的內容，這就是變數的值。\n",
    "- #### 輸入名稱，後面接個等號，然後再加上一個值，這動作我們稱為“為變數賦值”。\n",
    "- #### 變數中儲存的內容可以是字元串、整數數值或浮點數\n",
    "- #### 在下列的範例中，age是變數的名稱。我們將數值12存儲在變數age中，為變數(age)賦值(12)。最後，我們使用print()函數將括號內變數的值輸出。"
   ]
  },
  {
   "cell_type": "code",
   "execution_count": null,
   "metadata": {},
   "outputs": [],
   "source": [
    "age = 12\n",
    "print(age)"
   ]
  },
  {
   "cell_type": "markdown",
   "metadata": {},
   "source": [
    "#### 為變數選擇好名稱將使您的程式更容易理解。在Python中，命名變數是有些規則必需要遵守的。遵循這些規則可以幫助其他人更容易閱讀您的程式碼。在規則下，變數名稱應盡量使用小寫字母。如果變數要使用多個單字，例如height_inches，那麼應該使用底線( _ )將多個單字連接在一起。變數名稱可以包含字母、數字和底線，但必須要以字母開頭。遵循下列的規則，您就不會出錯。\n",
    "- #### 變數名稱必須是以字母開頭的名稱。 \n",
    "- #### 名稱中可以使用任何字母或數字。 \n",
    "- #### 不允許使用 - ，/，＃或@等符號。 \n",
    "- #### 不能使用空格。\n",
    "- #### 可以使用底線代替空格。\n",
    "- #### 大寫和小寫字母不同。 \n",
    "- #### 避免使用Python内建函數作為命令的單詞，例如“print”。\n",
    "\n",
    "#### 在Python中，必須在宣告變數時，同時為變數分配初始值（“初始化”） - 否則編譯器將傳回“未定義”錯誤。"
   ]
  },
  {
   "cell_type": "markdown",
   "metadata": {},
   "source": [
    "[回本書目錄](#本書目錄)"
   ]
  },
  {
   "cell_type": "markdown",
   "metadata": {},
   "source": [
    "### 2.2 使用字元串\n",
    "#### 在Python中，字元串是在兩個單引號(' ')或雙引號(\" \")之間的任何數據。例如，我可以有一個如下所示的字元串變數："
   ]
  },
  {
   "cell_type": "code",
   "execution_count": null,
   "metadata": {},
   "outputs": [],
   "source": [
    "sentence_English = 'This is a sentence about Python.'\n",
    "sentence_Chinese = \"這是關於Python的一個句子。\"\n",
    "print(sentence_Chinese, sentence_English)"
   ]
  },
  {
   "cell_type": "markdown",
   "metadata": {},
   "source": [
    "#### 我們也可以將數字儲存為字元串。"
   ]
  },
  {
   "cell_type": "code",
   "execution_count": null,
   "metadata": {},
   "outputs": [],
   "source": [
    "number_string = '40'\n",
    "print(number_string)"
   ]
  },
  {
   "cell_type": "markdown",
   "metadata": {},
   "source": [
    "#### 然而，當我們將數字儲存為字元串時，該變數就無法進行數學運算！"
   ]
  },
  {
   "cell_type": "code",
   "execution_count": null,
   "metadata": {},
   "outputs": [],
   "source": [
    "first_number ='10'\n",
    "second_number ='20'\n",
    "print(first_number + second_number)"
   ]
  },
  {
   "cell_type": "markdown",
   "metadata": {},
   "source": [
    "[回本書目錄](#本書目錄)"
   ]
  },
  {
   "cell_type": "markdown",
   "metadata": {},
   "source": [
    "### 2.3 使用整數"
   ]
  },
  {
   "cell_type": "markdown",
   "metadata": {},
   "source": [
    "[回本書目錄](#本書目錄)"
   ]
  },
  {
   "cell_type": "markdown",
   "metadata": {},
   "source": [
    "### 2.4 使用浮點數\n",
    "#### 浮點數上是一種使用小數表示數字的方式。之所以被稱為浮點數，是因為小數點可以是數字中的任意位置。允許使用多種不同大小的小數。將數字設置為浮點數允許我們使用小數進行更複雜的數學運算。要將變數設置為浮點數，您不必執行任何特殊操作或與設置整數操作不同的操作。 Python知道帶小數點的數字（或是變數）是一個浮點數，Python會將答案輸出為浮點數。"
   ]
  },
  {
   "cell_type": "code",
   "execution_count": null,
   "metadata": {},
   "outputs": [],
   "source": [
    "first_number = 10.3\n",
    "second_number = 20.3 \n",
    "print(first_number + second_number)"
   ]
  },
  {
   "cell_type": "markdown",
   "metadata": {},
   "source": [
    "[回本書目錄](#本書目錄)"
   ]
  },
  {
   "cell_type": "markdown",
   "metadata": {},
   "source": [
    "### 2.5 组合字元串、整數和浮點數\n",
    "\n",
    "#### 到目前為止，我們只嘗試組合相同資料型態的項目。我們組合了兩個字元串、兩個整數或兩個浮點數。那當我們嘗試組合兩種不同類型的資訊(例如字元串和整數)時會發生什麼？"
   ]
  },
  {
   "cell_type": "code",
   "execution_count": null,
   "metadata": {},
   "outputs": [],
   "source": [
    "first_number ='10' # 字符串\n",
    "second_number = 20 # 整数\n",
    "print(first_number + second_number)"
   ]
  },
  {
   "cell_type": "markdown",
   "metadata": {},
   "source": [
    "#### 您可能會注意到您收到的錯誤。要注意的重要一行是TypeError：必須是str而不是int。"
   ]
  },
  {
   "cell_type": "markdown",
   "metadata": {},
   "source": [
    "#### 一但有了變數的概念，我們就可以使用變數來做些有趣的事情。建構函數是其中最有趣的選項之一。 Python函數是指用來執行特定工作的程式碼塊。我們一旦建構了這些函數，之後就可以在程式碼中輸入函數名稱來重覆使用它們。事實上Python內建了許多令人驚奇的函數，而且也經常會被使用到。以下就讓我們介紹一些內建函數及其功能，我們將使用這些函數來完成下一章中的第一個項目。\n",
    "- #### int(): 將字元串或浮點數轉換為整數\n",
    "- #### float(): 將字元串或整數轉換為浮點數\n",
    "- #### input(): 來自使用者的資訊並將其儲存在電腦以供以後使用\n",
    "- #### str(): 將整數，浮點數或其他信息轉換為字元串\n",
    "- #### help(): 提供對Python的文件說明與協助\n",
    "\n",
    "#### 雖然在本教材中我們不會討論其他的函數，但隨著您成為一名技術嫻熟的程式員，您將會需要學習更多有關Python內置函數的知識。如果您現在就對內建的其他函數感興趣，想要了解更多相關知識，可以訪問[Python文件](https://docs.python.org/3.7/library/functions.html)。或許文件因為非常詳細而看起來很難。但是文件非常有用，許多程式設計師也經常需要查閱文件，耐心閱讀後，絕對受益無窮。\n",
    "#### 讓我們來開始學習建構自己的函數"
   ]
  },
  {
   "cell_type": "markdown",
   "metadata": {},
   "source": [
    "[回本書目錄](#本書目錄)"
   ]
  },
  {
   "cell_type": "markdown",
   "metadata": {},
   "source": [
    "### 2.6 建構自己的函數"
   ]
  },
  {
   "cell_type": "markdown",
   "metadata": {},
   "source": [
    "#### 函數是一大塊由您命名的程式碼。當我們創建一個函數之後，我們可以在區塊內將需要的程式碼保存下來，這樣之後要使用時，只需要簡單的呼叫，就可以重複利用相同的程式碼，這樣的程式設計技巧，我們就稱為函數。"
   ]
  },
  {
   "cell_type": "code",
   "execution_count": null,
   "metadata": {},
   "outputs": [],
   "source": [
    "def greeter():\n",
    "    print('Hello')"
   ]
  },
  {
   "cell_type": "markdown",
   "metadata": {},
   "source": [
    "#### 當我們輸入第一行在冒號之後，按Enter換行後，下列各行將自動新增四個Space。如果沒有，請自行在每行輸入之前按Tab鍵。(Tab = 四個Space)\n",
    "#### 這個非常簡單的功能只是輸出一條消息。一旦定義了函數，程式就可以使用它。調用函數時，它會執行定義時給出的語句。\n",
    "\n",
    "#### Python透過\"縮排\"來判斷程式碼區塊範圍，因此只要是同一個函數內的程式碼，每行前面都需要四個Space。同理，當我們編寫完函數內的程式碼後，接下來的程式碼就不需要在每行前面加上四個Space，Python就不會將之後的程式碼當成函數的一部分。\n"
   ]
  },
  {
   "cell_type": "code",
   "execution_count": null,
   "metadata": {},
   "outputs": [],
   "source": [
    "greeter()"
   ]
  },
  {
   "cell_type": "markdown",
   "metadata": {},
   "source": [
    "#### 再試寫另一個函數，可以發現函數內的每行程式碼，開頭都有四個Space"
   ]
  },
  {
   "cell_type": "code",
   "execution_count": null,
   "metadata": {},
   "outputs": [],
   "source": [
    "def addition():\n",
    "    first_number = 30\n",
    "    second_number = 60\n",
    "    print(first_number + second_number)"
   ]
  },
  {
   "cell_type": "code",
   "execution_count": null,
   "metadata": {},
   "outputs": [],
   "source": [
    "addition()"
   ]
  },
  {
   "cell_type": "markdown",
   "metadata": {},
   "source": [
    "[回本書目錄](#本書目錄)"
   ]
  },
  {
   "cell_type": "markdown",
   "metadata": {},
   "source": [
    "### 2.7 獲取使用者的輸入"
   ]
  },
  {
   "cell_type": "markdown",
   "metadata": {},
   "source": [
    "#### 我們剛剛創建了一個將兩個數字相加的函數(addition)。學習製作數學程式很有意思，但這個函數受到很大的侷限，當我們想要計算其他數字時，必需手動更改變數。如果有辦法讓使用者自行輸入資訊，並將該資訊儲存在變數中，這樣就大大增加了函數的可用性，那我們該如何做到呢？\n",
    "#### 使用過電腦的人都知道這是可能的，而且幾乎是必須的，很難想像一支無法讓使用者操控的程式有甚麼價值。 Python有一個名為input()的函數，它讓程式可以向使用者詢問問題，接收使用者傳來的資訊，並將其存入變數中。 input()函數非常實用。我們可以通過這個函數從使用者那端獲得各種資訊，並且我們可以根據使用者的輸入，讓使用者跟電腦進行交動。\n",
    "#### 嘗試輸入下面兩行程式碼看看會有什麼動靜?"
   ]
  },
  {
   "cell_type": "code",
   "execution_count": null,
   "metadata": {},
   "outputs": [],
   "source": [
    "name = input('What is your name? ')  \n",
    "print('Hi ', name)"
   ]
  },
  {
   "cell_type": "code",
   "execution_count": null,
   "metadata": {},
   "outputs": [],
   "source": [
    "def name():\n",
    "    first_name = input('What is your first name?')\n",
    "    print('It is so nice to meet you, ' + first_name)"
   ]
  },
  {
   "cell_type": "code",
   "execution_count": null,
   "metadata": {},
   "outputs": [],
   "source": [
    "name()"
   ]
  },
  {
   "cell_type": "markdown",
   "metadata": {},
   "source": [
    "### 你能回答以下這些問題嗎？\n",
    "#### Q1. 建構函數的第一行是甚麼?\n",
    "    1. def \n",
    "    2. Function \n",
    "    3. Input \n",
    "    4. Whitespace \n",
    "#### Q2. 什麼規則是用於命名變數和函數的？\n",
    "    1. 必須使用小寫字母\n",
    "    2. 多個單詞需要與下劃線連接\n",
    "    3. 不能使用數字來開始名稱\n",
    "    4. 以上皆是\n",
    "#### Q3. 函數第一行之後的每一行必須是？\n",
    "    1. 使用數字命名\n",
    "    2. 有冒號：\n",
    "    3. 縮進(Indented)\n",
    "    4. 使用括號()\n",
    "#### Q4. 如果你想在Python中執行代碼文件，你需要用甚麼副檔名？ \n",
    "    1. txt \n",
    "    2. dt \n",
    "    3. pdf \n",
    "    4. py\n",
    "#### Q5。 要在終端機中執行程式碼文件，您需要怎麼做？ \n",
    "    1. 在終端機中鍵入文件的名稱\n",
    "    2. 在執行Python時在終端中鍵入文件的名稱\n",
    "    3. 在正確的文件夾中，輸入Python和文件名\n",
    "    4. 依次執行以上所有步驟"
   ]
  },
  {
   "cell_type": "markdown",
   "metadata": {},
   "source": [
    "[回本書目錄](#本書目錄)"
   ]
  },
  {
   "cell_type": "markdown",
   "metadata": {},
   "source": [
    "### 2.8 總結\n",
    "#### 在本章中，我們學習了如何將資訊儲存在變數中，讓電腦記住它，以便之後使用。我們也學習如何使用變數來建立一個可以將兩個數字相加的函數。然後，當我們學會如何讓電腦提出問題並記住使用者的答案時，事情得更有趣了！使用input()，我們學習了如何將答案儲存為變數，以便稍後在我們一起建構的name()函數中使用。我們開始在.py文件中保存我們的工作，以便我們可以在終端機/命令提示字元下執行和重新執行我們的文件，而無需一直重新輸入文件。在下一章中，您將建構一個五個功能的計算機，使用您在本章中學到的所有技能在程式碼中執行！"
   ]
  },
  {
   "cell_type": "markdown",
   "metadata": {},
   "source": [
    "[回本書目錄](#本書目錄)"
   ]
  },
  {
   "cell_type": "markdown",
   "metadata": {},
   "source": [
    "## 3. 你的第一個程式-撰寫一個計算機\n",
    "### 我們將製作的第一個程式，是一個具有五項功能的計算機，用以計算輸入的兩個數字。計算機將幫助我們學習理解作為Python一部分的數學函數，這對我們本書後面章節的遊戲很有用。"
   ]
  },
  {
   "cell_type": "markdown",
   "metadata": {},
   "source": [
    "### 3.1 計算機的四個基本功能\n",
    "#### 電子計算機有四個基本功能：加、減、乘、除。我們將專注在編寫這幾個函數，我們還將學習第五個數學函數稱為模除(modulo)。在本章的開頭，我們使用addition（）做為函數的範例。一旦我們建立並測試完成一個我們要的add()函數，我們將接著建構其他函數。讓我們參考第2章“變數”、“函數”和“使用者”中的加法函數範例。回想一下我們如何編寫這個函數："
   ]
  },
  {
   "cell_type": "raw",
   "metadata": {},
   "source": [
    "def addition():\n",
    "    first_number = 30\n",
    "    second_number = 60\n",
    "    print(first_number + second_number)"
   ]
  },
  {
   "cell_type": "markdown",
   "metadata": {},
   "source": [
    "[回本書目錄](#本書目錄)"
   ]
  },
  {
   "cell_type": "markdown",
   "metadata": {},
   "source": [
    "### 3.2 兩個數字的操作與計算\n",
    "#### 在下列的三個函數程式addition(), addition_integer()以及addition_float()中，當執行程式時，讓我們分別輸入12.6與24.2兩個数字。"
   ]
  },
  {
   "cell_type": "code",
   "execution_count": null,
   "metadata": {},
   "outputs": [],
   "source": [
    "def addition():    \n",
    "    first = input('I will add two numbers. Please enter the first number? ')    \n",
    "    second = input('Now, please enter the second number?  ')    \n",
    "    print(first + second) "
   ]
  },
  {
   "cell_type": "code",
   "execution_count": null,
   "metadata": {},
   "outputs": [],
   "source": [
    "addition()"
   ]
  },
  {
   "cell_type": "code",
   "execution_count": null,
   "metadata": {},
   "outputs": [],
   "source": [
    "def addition_float():    \n",
    "    first = input('I will add two numbers. Please enter the first number? ')\n",
    "    first = float(first)\n",
    "    second = input('Now, please enter the second number?  ')  \n",
    "    second = float(second)\n",
    "    print(first + second) "
   ]
  },
  {
   "cell_type": "code",
   "execution_count": null,
   "metadata": {},
   "outputs": [],
   "source": [
    "addition_float()"
   ]
  },
  {
   "cell_type": "code",
   "execution_count": null,
   "metadata": {},
   "outputs": [],
   "source": [
    "def addition_integer():    \n",
    "    first = input('I will add two numbers. Please enter the first number? ')\n",
    "    first = int(float(first))\n",
    "    second = input('Now, please enter the second number?  ')  \n",
    "    second = int(float(second))\n",
    "    print(first + second) "
   ]
  },
  {
   "cell_type": "code",
   "execution_count": null,
   "metadata": {},
   "outputs": [],
   "source": [
    "addition_integer()"
   ]
  },
  {
   "cell_type": "markdown",
   "metadata": {},
   "source": [
    "### 如果您嘗試在int()或float()函數中輸入字元串，則會出現錯誤。"
   ]
  },
  {
   "cell_type": "markdown",
   "metadata": {},
   "source": [
    "[回本書目錄](#本書目錄)"
   ]
  },
  {
   "cell_type": "markdown",
   "metadata": {},
   "source": [
    "### 3.3 兩個數字的操作與減法、乘法與除法計算"
   ]
  },
  {
   "cell_type": "code",
   "execution_count": null,
   "metadata": {},
   "outputs": [],
   "source": [
    "def subtraction():  \n",
    "    first = float(input('What is your first number? '))  \n",
    "    second = float(input('What is your second number? '))  \n",
    "    print(first - second)"
   ]
  },
  {
   "cell_type": "code",
   "execution_count": null,
   "metadata": {},
   "outputs": [],
   "source": [
    "subtraction()"
   ]
  },
  {
   "cell_type": "code",
   "execution_count": null,
   "metadata": {},
   "outputs": [],
   "source": [
    "def multiplication():  \n",
    "    first = float(input('What is your first number? '))  \n",
    "    second = float(input('What is your second number? '))  \n",
    "    print(first * second)"
   ]
  },
  {
   "cell_type": "code",
   "execution_count": null,
   "metadata": {},
   "outputs": [],
   "source": [
    "multiplication()"
   ]
  },
  {
   "cell_type": "code",
   "execution_count": null,
   "metadata": {},
   "outputs": [],
   "source": [
    "def division():  \n",
    "    first = float(input('What is your first number? '))  \n",
    "    second = float(input('What is your second number? '))  \n",
    "    print(first / second)"
   ]
  },
  {
   "cell_type": "code",
   "execution_count": null,
   "metadata": {},
   "outputs": [],
   "source": [
    "division()"
   ]
  },
  {
   "cell_type": "markdown",
   "metadata": {},
   "source": [
    "[回本書目錄](#本書目錄)"
   ]
  },
  {
   "cell_type": "markdown",
   "metadata": {},
   "source": [
    "### 3.4 尋找餘數-模除計算"
   ]
  },
  {
   "cell_type": "code",
   "execution_count": null,
   "metadata": {},
   "outputs": [],
   "source": [
    "def modulo():  \n",
    "    first = float(input('What is your first number? '))  \n",
    "    second = float(input('What is your second number? '))  \n",
    "    print(first % second)"
   ]
  },
  {
   "cell_type": "code",
   "execution_count": null,
   "metadata": {},
   "outputs": [],
   "source": [
    "modulo()"
   ]
  },
  {
   "cell_type": "markdown",
   "metadata": {},
   "source": [
    "[回本書目錄](#本書目錄)"
   ]
  },
  {
   "cell_type": "markdown",
   "metadata": {},
   "source": [
    "### 3.5 一個較完美的計算機函數與程式\n",
    "#### 我們在下列的程式中加了while的迴圈以及如何處理錯誤發生時，不讓程式中斷。我們會在下一章Python的控制流程中的使用exception檢測錯誤的輸入時再詳細說明。"
   ]
  },
  {
   "cell_type": "code",
   "execution_count": null,
   "metadata": {},
   "outputs": [],
   "source": [
    "def addition():\n",
    "    while True:\n",
    "        try:\n",
    "            first = float(input('What is your first number? '))  \n",
    "            second = float(input('What is your second number? '))\n",
    "            print(first + second)\n",
    "            break\n",
    "        except ValueError:\n",
    "            print('Oops! That was no valid number. Please Try again.....')"
   ]
  },
  {
   "cell_type": "code",
   "execution_count": null,
   "metadata": {},
   "outputs": [],
   "source": [
    "addition()"
   ]
  },
  {
   "cell_type": "markdown",
   "metadata": {},
   "source": [
    "[回本書目錄](#本書目錄)"
   ]
  },
  {
   "cell_type": "markdown",
   "metadata": {},
   "source": [
    "### 3.6 總結\n",
    "#### 既然您已閱讀本章，那麼希望您有了一個可以執行的計算機程式！這個程式更具互動性，可以做比第一個程式更多的事情。你應該向家人和朋友分享這個程式，跟他們展示你如何提高你的技術，跟他們分享你從程式設計中獲得的樂趣。在下一章中，我們將了解如何做出決策，通過教學讓使用者了解如何選擇要執行的操作及要輸入的數字，完善我們的計算機程式。我們將要處理更複雜的事情，我們會將難題分解，並一一克服它們，以便您能夠理解我們正在做的每一件事。"
   ]
  },
  {
   "cell_type": "markdown",
   "metadata": {},
   "source": [
    "### 你能回答以下這些問題嗎？\n",
    "#### Q1. input()函數返回什麼樣的數據？ \n",
    "    1. Elements \n",
    "    2. Decimals \n",
    "    3. Strings \n",
    "    4. Integers \n",
    "#### Q2. int()函數有什麼作用？\n",
    "    1. 將數據更改為整數\n",
    "    2. 將數據更改為字元串\n",
    "    3. 不執行任何操作\n",
    "    4. 將函數更改為其他函數\n",
    "#### Q3. float()函數與int()函數有什麼不同？ \n",
    "    1. 它們沒有區別，它們做同樣的事情\n",
    "    2. float()函數只處理字元串\n",
    "    3. float()函數僅將數據轉換為浮點數\n",
    "    4. float()將字元串轉換為數字\n",
    "#### Q4. 如果在Python shell中建立一個名為addition()的函數，那麼如何執行該函數來測試它呢？\n",
    "    1. 在Python shell中輸入addition\n",
    "    2. 在Python shell中輸入def addition \n",
    "    3. 在Python shell中輸入def addition()\n",
    "    4. 在Python shell中輸入addition()"
   ]
  },
  {
   "cell_type": "markdown",
   "metadata": {},
   "source": [
    "[回本書目錄](#本書目錄)"
   ]
  },
  {
   "cell_type": "markdown",
   "metadata": {},
   "source": [
    "## 4. Python的控制流程"
   ]
  },
  {
   "cell_type": "markdown",
   "metadata": {},
   "source": [
    "### 4.1 比較運算符號"
   ]
  },
  {
   "cell_type": "markdown",
   "metadata": {},
   "source": [
    "比較|運算符號|\n",
    "----|-----|\n",
    "小於| < |\n",
    "小於或等於| <= |\n",
    "大於| > |\n",
    "大於或等於| >=\n",
    "等於|==\n",
    "不等於|!="
   ]
  },
  {
   "cell_type": "markdown",
   "metadata": {},
   "source": [
    "#### 比較運算的結果為對(True)或錯(False)"
   ]
  },
  {
   "cell_type": "code",
   "execution_count": null,
   "metadata": {},
   "outputs": [],
   "source": [
    "1 < 1"
   ]
  },
  {
   "cell_type": "code",
   "execution_count": null,
   "metadata": {},
   "outputs": [],
   "source": [
    "1 == 1"
   ]
  },
  {
   "cell_type": "markdown",
   "metadata": {},
   "source": [
    "[回本書目錄](#本書目錄)"
   ]
  },
  {
   "cell_type": "markdown",
   "metadata": {},
   "source": [
    "### 4.2 條件語句 - if, elif, else\n",
    "#### Python中經常使用三種條件語句來控制程式的結果。這些條件語句分別是if，elif和else：\n",
    "- #### if語句告訴程式如果使用者滿足此條件，則執行該程式的if這一部分。\n",
    "- #### else語句則是執行該程式不是if的部分。\n",
    "- #### 如果您想為程式提供兩個以上的選擇，則使用elif。您可以根據需要多次使用elif。"
   ]
  },
  {
   "cell_type": "code",
   "execution_count": null,
   "metadata": {},
   "outputs": [],
   "source": [
    "def calculator():\n",
    "    op = input('add, subtract, multiply, divide, or modulo? ')\n",
    "    while True:\n",
    "        try:\n",
    "            first = float(input('What is your first number? '))  \n",
    "            second = float(input('What is your second number? '))\n",
    "            break\n",
    "        except ValueError:\n",
    "            print('Oops! That was no valid number. Please Try again.....')\n",
    "    if op == 'add':\n",
    "        print(first + second)\n",
    "    elif op == 'subtract':\n",
    "        print(first - second)\n",
    "    elif op == 'multiply':\n",
    "        print(first * second)\n",
    "    elif op == 'divide':\n",
    "        print(first / second)\n",
    "    elif op == 'modulo':\n",
    "        print(first % second)\n",
    "    else:\n",
    "         print('Thank you. Goodbye')"
   ]
  },
  {
   "cell_type": "code",
   "execution_count": null,
   "metadata": {},
   "outputs": [],
   "source": [
    "calculator()"
   ]
  },
  {
   "cell_type": "markdown",
   "metadata": {},
   "source": [
    "[回本書目錄](#本書目錄)"
   ]
  },
  {
   "cell_type": "markdown",
   "metadata": {},
   "source": [
    "### 4.3 用迴圈 - while, for來重複動作\n",
    "#### 迴圈(loops)是一種控制流，它們會一遍又一遍地重新執行相同的程式碼區域，直到達成特定的條件後，迴圈才會停止重複動作。這與上面提到的條件語句略有不同，因為條件語句只執行一次程式碼區塊，而迴圈會不斷的重複執行相同的程式碼區塊，直到達成特定條件才會跳出迴圈。\n",
    "#### Python提供兩種迴圈分別是while和for。兩種類型的迴圈有各自適合的情境，後面會再進行討論。"
   ]
  },
  {
   "cell_type": "markdown",
   "metadata": {},
   "source": [
    "### 4.3.1 使用while迴圈來控制程式"
   ]
  },
  {
   "cell_type": "code",
   "execution_count": null,
   "metadata": {},
   "outputs": [],
   "source": [
    "def quit():\n",
    "    global continue_calulate #全域變數\n",
    "    continue_calulate = 0\n",
    "\n",
    "def calculator_loop():\n",
    "    op = input('add, subtract, multiply, divide, or modulo? ')\n",
    "    while True:\n",
    "        try:\n",
    "            first = float(input('What is your first number? '))  \n",
    "            second = float(input('What is your second number? '))\n",
    "            break\n",
    "        except ValueError:\n",
    "            print('Oops! That was no valid number. Please Try again.....')\n",
    "    if op == 'add':\n",
    "        print(first + second)\n",
    "    elif op == 'subtract':\n",
    "        print(first - second)\n",
    "    elif op == 'multiply':\n",
    "        print(first * second)\n",
    "    elif op == 'divide':\n",
    "        print(first / second)\n",
    "    elif op == 'modulo':\n",
    "        print(first % second)\n",
    "    else:\n",
    "        quit()\n",
    "continue_calulate = 1\n",
    "while continue_calulate == 1:\n",
    "    calculator_loop()"
   ]
  },
  {
   "cell_type": "markdown",
   "metadata": {},
   "source": [
    "#### 從上述程式中，我們先建立一個全域變數(global variable)continue_calulate，在我們的quit()函數中使用。這種使用變數的方式，讓我們把quit()函數像變成像開關一樣，用來停止calculator_loop()函數執行。\n",
    "#### 我們希望保持程式運行。為此，我們使用while迴圈。在程式碼的底部，我們示範了當(while)continue_calulate的按鈕打開時(等於1)，執行calculator_loop()函數。如果有人將continue_calulate變更為0時，立即停止calculator_loop()函數的運行。"
   ]
  },
  {
   "cell_type": "markdown",
   "metadata": {},
   "source": [
    "[回本書目錄](#本書目錄)"
   ]
  },
  {
   "cell_type": "markdown",
   "metadata": {},
   "source": [
    "### 4.3.2 使用for迴圈來控制程式\n",
    "#### for迴圈是另一種迴圈。我們將會使用for迴圈，為我們的計算機新增獎勵功能。 for和while之間的最大區別是，當程式設計師知道迴圈確切要重複的次數時，我們會選擇使用for迴圈。而當我們需要重複使用特定程式碼區塊，卻又不知道使用者何時才會停止使用時，我們就會使用while迴圈。\n",
    "#### 在某些情境下，使用者可能想要只進行1次計算，也有可能是10次，這種不確定的情況下，while迴圈靈活的特性會較for迴圈更適合。那麼為什麼不一直使用while迴圈就好了呢?\n",
    "#### 有些功能並不需要跟使用者互動，因此可以明確知道迴圈需要執行的確切次數，這種情況下，就適合for迴圈出馬了，雖然while迴圈很靈活，但如果不小心停止條件沒寫好，就會變成無限迴圈的死循環，因此在知道明確執行次數的情況下，建議使用for迴圈來避開產生無窮迴圈的情況。\n",
    "#### 假設您有一個數字列表，並且您想要將所有數字一一列印出來，若要輸出數字1到10，您可以單獨編寫它們，如下所示："
   ]
  },
  {
   "cell_type": "code",
   "execution_count": null,
   "metadata": {},
   "outputs": [],
   "source": [
    "for n in range(1, 11):\n",
    "    print(n)"
   ]
  },
  {
   "cell_type": "markdown",
   "metadata": {},
   "source": [
    "#### 首先，您看到我們使用了range(1, 11)這個函數。這意味重複印出的n會介於1到11，並不包括11。你應該有注意到，我們使用了一個名為range()的函數，它是一個內建的Python函數，它允許我們指定一連串的數字而不用全部寫出來。 range()函數中，輸出的結果並不包括第二個數字，因此您可以看到第二個數字是11而不是10，您可以通過將這些數字擴展到range(1,1000)來實驗看看會產生什麼樣的結果。上述程式就是一個基本的for迴圈，從中我們可以發現，如果明確知道需要重複的次數時，使用for迴圈非常直覺、簡單。\n",
    "#### 來試試看，在下列程式執行之前，您猜得出這是在做甚麼嗎?"
   ]
  },
  {
   "cell_type": "code",
   "execution_count": null,
   "metadata": {},
   "outputs": [],
   "source": [
    "sum = 0\n",
    "for n in range(1, 11):\n",
    "    sum = sum + n\n",
    "print(sum)"
   ]
  },
  {
   "cell_type": "markdown",
   "metadata": {},
   "source": [
    "[回本書目錄](#本書目錄)"
   ]
  },
  {
   "cell_type": "markdown",
   "metadata": {},
   "source": [
    "### 4.4 使用exception檢測無效的數字輸入\n",
    "#### except(異常)是Python程式執行時產生錯誤的情況下，仍維持程式繼續運行的一種處理方法。換句話說，exception提供了一種方法來阻止程式做錯事。\n",
    "#### 您可以將except視為對某些東西不起作用的描述。隨著我們累積更多Python程式的撰寫經驗下，我們會看到更多不同的except處理方式。當Python引擎檢測到異常時，它會輸出程式碼錯誤位置的簡短描述，以及錯誤的詳細資訊。例如，如果int函數無法將文件字元串轉換為整數，則會引發ValueError異常。\n",
    "#### 如果我們希望程式在出現異常時仍保持運行，我們可以使用Python的try語法來進行錯誤處理程式。\n",
    "#### 在try之後寫入可能引發異常的語句。如果任何語句引發異常，程式的執行會立即移動到處理該異常的程式碼區域(錯誤處理程式)。您可以在以下程式中查看其工作原理。"
   ]
  },
  {
   "cell_type": "code",
   "execution_count": null,
   "metadata": {},
   "outputs": [],
   "source": [
    "try:\n",
    "    number_text = input('Please enter the first number: ')\n",
    "    number_integer = int(number_text) # 可能引發異常的語句\n",
    "    print('You have entered', number_integer)\n",
    "except ValueError:\n",
    "    print('Invalid number') # 引發異常時執行的語句"
   ]
  },
  {
   "cell_type": "markdown",
   "metadata": {},
   "source": [
    "#### 在上面的程式碼中，異常程式的處理方式由except後開始，後面跟著處理程式將處理的異常類型(可能會多種錯誤類型)。\n",
    "#### 在上面的範例中，異常處理程式正在處理如果使用者輸入的不包含有效數字，則由int函數引發的ValueError異常。 ValueError異常處理程式顯示適當的資訊。\n",
    "#### 如果使用者輸入有效的數值，程式將繼續輸出int後的程式碼。如果int函數引發異常，則不遵循引發異常位置以後的語句。\n",
    "#### 我們知道使用者可能輸入文本而不是數字，導致int函數引發異常，因為它無法將文本轉換為數字。我們的計劃需要一種方式來應對這種可能性; except語句之後的程式碼塊就是這樣。\n",
    "\n",
    "#### 我們希望製作一個程式，只要使用者輸入無法轉換為數字的文本，就會執行while迴圈。請查看以下程式碼。"
   ]
  },
  {
   "cell_type": "code",
   "execution_count": null,
   "metadata": {},
   "outputs": [],
   "source": [
    "number_valid = False # 建立一個判斷值並將其設置為False\n",
    "while number_valid == False: # 標誌為False時重複迴圈\n",
    "    try: # 可能出現異常\n",
    "        number_text = input('Please enter the first number: ')\n",
    "        number_integer = int(number_text) # 將文字轉換為整數\n",
    "        number_valid = True # 如果我們到這裡，我們知道這個是正確的數字\n",
    "    except ValueError: # 無效數字的處理程式\n",
    "        print('Invalid number. Please enter digits.') # 顯示輸入錯誤\n",
    "# 當我們到達這裡時，我們有一個有效的數字\n",
    "print('You have entered the first number as ', number_integer)"
   ]
  },
  {
   "cell_type": "markdown",
   "metadata": {},
   "source": [
    "#### 如果使用者在輸入數字時按下Ctrl + C，程式將被強制中斷。解決此問題的一種方法是讓使用者使用不包含Ctrl鍵的鍵盤。但是，我們也可以在程式中解決這個問題。"
   ]
  },
  {
   "cell_type": "code",
   "execution_count": null,
   "metadata": {},
   "outputs": [],
   "source": [
    "number_valid = False     # 建立一個判斷值並將其設置為False\n",
    "while number_valid == False:       # 判斷為False時重複迴圈\n",
    "    try:    # 可能出現異常\n",
    "        number_text = input('Please enter the first number: ')\n",
    "        number_integer = int(number_text)    # 將文字轉換為整數\n",
    "        number_valid = True      # 如果我們到這裡，我們知道這個是正確的數字\n",
    "    except KeyboardInterrupt:\n",
    "        print('Please do not try to stop the program.')\n",
    "        continue\n",
    "    except ValueError:       # 無效數字的處理程式\n",
    "        print('Invalid number. Please enter digits.')     # 顯示輸入錯誤\n",
    "\n",
    "# 當我們到達這裡時，我們有一個有效的數字\n",
    "print('You have entered the first number as ', number_integer)\n"
   ]
  },
  {
   "cell_type": "markdown",
   "metadata": {},
   "source": [
    "#### 上列有兩個異常(except)。如果引發了這些異常中的任何一個，程式將移動到對應的處理程式並輸出對應的資訊。"
   ]
  },
  {
   "cell_type": "markdown",
   "metadata": {},
   "source": [
    "[回本書目錄](#本書目錄)"
   ]
  },
  {
   "cell_type": "markdown",
   "metadata": {},
   "source": [
    "### 4.5 跳出迴圈以及返回迴圈的頂部\n",
    "#### 在4.4節中，我們示範了拒絕無效輸入的程式，雖然可以確保程式正常運行，但我們可以透過使用Python迴圈的另一個功能稍微簡化程式。 break語句告訴程式跳出迴圈。一旦Python找到break語句，它就會停止在迴圈中執行程式碼，並移動到迴圈程式之後的語句。"
   ]
  },
  {
   "cell_type": "code",
   "execution_count": null,
   "metadata": {},
   "outputs": [],
   "source": [
    "while True: # 重複直到我們跳出迴圈\n",
    "    try: # 可能出現異常\n",
    "        number_text = input('Please enter the first number: ')\n",
    "        number_integer = int(number_text) # 將文字轉換為整數\n",
    "        break # 如果我們到這裡，我們知道這個是正確的數字，跳出迴圈\n",
    "    except ValueError: # 無效數字的處理程式\n",
    "        print('Invalid number. Please enter digits.') # 顯示輸入錯誤\n",
    "# 當我們到達這裡時，我們有一個有效的數字\n",
    "print('You have entered the first number as ', number_integer)"
   ]
  },
  {
   "cell_type": "markdown",
   "metadata": {},
   "source": [
    "#### 有時編寫一個程式，會需要跳過特定的步驟。\n",
    "#### 為了跳過步驟又要能夠回到迴圈，Python提供了continue關鍵字，也就是說“不要再執行之後的步驟了，重新執行一次新的迴圈吧。“"
   ]
  },
  {
   "cell_type": "code",
   "execution_count": null,
   "metadata": {},
   "outputs": [],
   "source": [
    "while True:\n",
    "    try:\n",
    "        number_text = input('Please enter the first number: ')\n",
    "        number_integer = int(number_text)\n",
    "        if number_integer < 0 or number_integer > 10000:\n",
    "            print('Sorry, this number is out of range')\n",
    "            continue\n",
    "        break\n",
    "    except ValueError: # 無效數字的處理程式\n",
    "        print('Invalid number. Please enter digits.') # 顯示輸入錯誤\n",
    "print('You have entered the first number as:', number_integer)"
   ]
  },
  {
   "cell_type": "markdown",
   "metadata": {},
   "source": [
    "[回本書目錄](#本書目錄)"
   ]
  },
  {
   "cell_type": "markdown",
   "metadata": {},
   "source": [
    "### 4.5.1 製作一個數字時鐘\n",
    "#### 我們可以藉由迴圈，使用snap程式庫中的draw_text函數重複顯示時間。\n",
    "#### 重複顯示時間就能夠產生視覺效果，讓我們感覺它是每秒在更新的數字時鐘。"
   ]
  },
  {
   "cell_type": "code",
   "execution_count": null,
   "metadata": {},
   "outputs": [],
   "source": [
    "import time, snaps\n",
    "while True:\n",
    "    current_time = time.localtime()\n",
    "    hour_string = str(current_time.tm_hour)\n",
    "    minute_string = str(current_time.tm_min)\n",
    "    second_string = str(current_time.tm_sec)\n",
    "    time_string = hour_string+':'+minute_string+':'+second_string\n",
    "    snaps.display_message(time_string)\n",
    "    time.sleep(1)"
   ]
  },
  {
   "cell_type": "markdown",
   "metadata": {},
   "source": [
    "[回本書目錄](#本書目錄)"
   ]
  },
  {
   "cell_type": "markdown",
   "metadata": {},
   "source": [
    "### 4.5.2 製作一個猜數字遊戲"
   ]
  },
  {
   "cell_type": "code",
   "execution_count": null,
   "metadata": {},
   "outputs": [],
   "source": [
    "# Higer and Lower - A number game\n",
    "import random\n",
    "game_on = None\n",
    "guesses = None\n",
    "secret = None\n",
    "\n",
    "def difficulty_level_easy():\n",
    "    global secret\n",
    "    secret = int(random.randrange(0,100))\n",
    "    while game_on:\n",
    "        guess = int(input('Guess a number. '))\n",
    "        if guess > secret:\n",
    "            print('your guess is too high. Try again.')\n",
    "        elif guess < secret:\n",
    "            print('your guess is too low. Try again.')\n",
    "        elif guess == secret:\n",
    "            print('You win!')\n",
    "            play_again()   \n",
    "\n",
    "def difficulty_level_hard():\n",
    "    global guesses\n",
    "    global secret\n",
    "    secret = int(random.randrange(0,100))\n",
    "    print('You have total 5 guesses to win the game')\n",
    "    for i in range(5):\n",
    "        guess = int(input('Guess a number. '))\n",
    "        if guess > secret:\n",
    "            print('your guess is too high. Try again.')\n",
    "        elif guess < secret:\n",
    "            print('your guess is too low. Try again.')\n",
    "        elif guess == secret:\n",
    "            print('You win!')\n",
    "            play_again()\n",
    "    print('Game over. Too many guesses.')\n",
    "    play_again()\n",
    "\n",
    "def start_game():\n",
    "    global game_on\n",
    "    game_on = True\n",
    "    level = input('Welcome. Type easy, hard, or quit. ')\n",
    "    if level == 'easy':\n",
    "        difficulty_level_easy()\n",
    "    elif level == 'hard':\n",
    "        difficulty_level_hard()\n",
    "    elif level == 'quit':\n",
    "        game_on = False\n",
    "        print('Thanks for playing')\n",
    "\n",
    "def play_again():\n",
    "    global game_on\n",
    "    game_on = True\n",
    "    play = input('Play again? Yes or No. ')\n",
    "    if play == 'Yes':\n",
    "        start_game()\n",
    "    else:\n",
    "        game_on = False\n",
    "        print ('Thanks for playing.')\n",
    "\n",
    "start_game()"
   ]
  },
  {
   "cell_type": "markdown",
   "metadata": {},
   "source": [
    "[回本書目錄](#本書目錄)"
   ]
  },
  {
   "cell_type": "markdown",
   "metadata": {},
   "source": [
    "### 4.6 總結\n",
    "#### 在本章中，您學習了許多新概念。您了解了比較運算符號，這些符號允許我們比較兩個項目。您還了解了if，elif和else三個條件詞，它們讓我們可以告訴程式如何根據使用者輸入的資訊做出不同的決定；了解了for和while迴圈，兩者在撰寫提供反饋的程式方面都非常重要。您還學習了一些關於如何使用全域變數的知識，這些變數可以與程式碼文件中的所有函數共享。希望你能跟上我們到目前為止所談論的一切，我們將在下一章中建構一些新項目，透過這些新項目，來回顧我們在本章中學到的概念。\n",
    "\n",
    "### 你能回答以下這些問題嗎？\n",
    "#### Q1. elif語句可以出現在if/elif/else中多少次？ \n",
    "    1. 僅一次\n",
    "    2. 兩次\n",
    "    3. 根據需要\n",
    "    4. 十次\n",
    "#### Q2. 在用於做出決策的語句中，哪個語句啟動條件程式區域？ \n",
    "    1. else\n",
    "    2. if\n",
    "    3. elif \n",
    "    4. while\n",
    "#### Q3. 哪個語句僅用於條件程式區域的末尾？ \n",
    "    1. else\n",
    "    2. if\n",
    "    3. elif \n",
    "    4. while\n",
    "#### Q4。 什麼是全域變數？\n",
    "    1. 僅在一個函數中使用的變數\n",
    "    2. 可以與許多函數共享的變數\n",
    "    3. 如果變數在函數內部，則在其名稱之前使用全域變數\n",
    "    4. 2和3\n",
    "#### Q5. 什麼是while迴圈？\n",
    "    1. 一個只執行程式碼一次的迴圈\n",
    "    2. 一個迴圈，它執行程式碼一定次數\n",
    "    3. 迴圈重複程式碼，直到發生不同的事情，然後它停止\n",
    "    4. 迴圈什麼也不做\n",
    "#### Q6. 您能嘗試使用exception檢測無效的數字輸入來修正猜數字遊戲嗎?"
   ]
  },
  {
   "cell_type": "markdown",
   "metadata": {},
   "source": [
    "[回本書目錄](#本書目錄)"
   ]
  },
  {
   "cell_type": "markdown",
   "metadata": {},
   "source": [
    "### 5. 數據的存放結構\n",
    "- #### 在第二章中，我們提到了如果要編寫有用的程式碼，則需要能夠儲存和標記資訊。我們學習了變數的使用，在這個章節裡，我們要介紹除了變數以外，Python還有哪些方式可以存放資訊。\n",
    "- #### 在Python編程中，我們使用＝(assignment)來給定變數的初始值(初始化)。我們也可以使用＝在單個語句中使用公共值來初始化多個變數。例如："
   ]
  },
  {
   "cell_type": "code",
   "execution_count": null,
   "metadata": {},
   "outputs": [],
   "source": [
    "a = b = c = 10\n",
    "print(a, b, c)"
   ]
  },
  {
   "cell_type": "markdown",
   "metadata": {},
   "source": [
    "- #### 或者，可以使用逗號分隔在單個語句中使用不同的值初始化多個變數。例如，要同時為三個變數分配不同的值："
   ]
  },
  {
   "cell_type": "code",
   "execution_count": null,
   "metadata": {},
   "outputs": [],
   "source": [
    "a, b, c = 1, 2, 3\n",
    "print(a, b, c)"
   ]
  },
  {
   "cell_type": "markdown",
   "metadata": {},
   "source": [
    "[回本書目錄](#本書目錄)"
   ]
  },
  {
   "cell_type": "markdown",
   "metadata": {},
   "source": [
    "### 5.1 Python Lists(列表)\n",
    "- #### 與只能儲存單個數據項的一般變數不同，Python列表是一個可以儲存多項數據的變數。數據按順序儲存在從零開始的索引編號的列表“元素”中。因此第一個值儲存在元素零中，第二個值儲存在元素一中，依此類推。\n",
    "- #### 建立列表與任何其他變數非常相似，但是通過將值指定為方括號之間的逗號分隔列表來初始化列表。例如，建立名為“numbers”的列表，如下所示："
   ]
  },
  {
   "cell_type": "code",
   "execution_count": null,
   "metadata": {},
   "outputs": [],
   "source": [
    "numbers_list = [0,1,2,3,4,5]\n",
    "print(numbers_list)"
   ]
  },
  {
   "cell_type": "markdown",
   "metadata": {},
   "source": [
    "- #### 可以使用列表名稱引用單個列表元素，後跟包含該元素索引號的方括號。例如：numbers_list[1]引用上面範例中的第二個元素，而不是第一個元素，因為元素編號從零開始。"
   ]
  },
  {
   "cell_type": "code",
   "execution_count": null,
   "metadata": {},
   "outputs": [],
   "source": [
    "print(numbers_list[0], ';', numbers_list[5])"
   ]
  },
  {
   "cell_type": "markdown",
   "metadata": {},
   "source": [
    "#### 列表在編寫時有許多不同的用途，並且可以有許多不同的操作。列表有許多用途，在本章中，我們只介紹一些部分。首先，關於Python列表的一些事實：Python列表是可變的。這意味著可以更改列表中的數據。可以直接使用列表的函數來添加或刪除項目。此外，列表中的項目可以混合在一起。數字，浮點數和字元串都可以放在同一個列表中。例如："
   ]
  },
  {
   "cell_type": "code",
   "execution_count": null,
   "metadata": {},
   "outputs": [],
   "source": [
    "my_name = 'Marianne'\n",
    "a_list = [1, 2, 3, 4]\n",
    "another_list = ['robots', 77, 93, 'try']\n",
    "print(my_name[0:2], a_list[0], a_list[:3], type(a_list), len(a_list))"
   ]
  },
  {
   "cell_type": "code",
   "execution_count": null,
   "metadata": {},
   "outputs": [],
   "source": [
    "print(another_list[0], another_list[0:3], type(another_list), len(another_list))"
   ]
  },
  {
   "cell_type": "markdown",
   "metadata": {},
   "source": [
    "#### 修改列表 – 新增和刪除資訊\n",
    "- #### 項目可以新增到列表中，從中刪除或修改項目。同樣，有很多方法可以與列表進行互動。我們在這裡只討論一些，但您可以隨時閱讀Python文件以獲取更多資訊。"
   ]
  },
  {
   "cell_type": "markdown",
   "metadata": {},
   "source": [
    "#### 範例：使用append或符號+來新增項目到列表中"
   ]
  },
  {
   "cell_type": "code",
   "execution_count": null,
   "metadata": {},
   "outputs": [],
   "source": [
    "another_list = ['robots', 77, 93, 'try']\n",
    "another_list.append('turn right')\n",
    "print(another_list)"
   ]
  },
  {
   "cell_type": "code",
   "execution_count": null,
   "metadata": {},
   "outputs": [],
   "source": [
    "another_list = ['robots', 77, 93, 'try']\n",
    "another_list = another_list+['turn right']\n",
    "print(another_list)"
   ]
  },
  {
   "cell_type": "markdown",
   "metadata": {},
   "source": [
    "#### 範例：使用remove將列表中項目刪除"
   ]
  },
  {
   "cell_type": "code",
   "execution_count": null,
   "metadata": {},
   "outputs": [],
   "source": [
    "another_list.remove('robots')\n",
    "print(another_list)"
   ]
  },
  {
   "cell_type": "markdown",
   "metadata": {},
   "source": [
    "#### 範例：列表與迴圈的互動"
   ]
  },
  {
   "cell_type": "code",
   "execution_count": null,
   "metadata": {},
   "outputs": [],
   "source": [
    "colors = ['green', 'yellow', 'red']\n",
    "for element in colors:\n",
    "    print('I see ' + element + '.')"
   ]
  },
  {
   "cell_type": "markdown",
   "metadata": {},
   "source": [
    "[回本書目錄](#本書目錄)"
   ]
  },
  {
   "cell_type": "markdown",
   "metadata": {},
   "source": [
    "### 5.2 Python Dictionaries(字典)\n",
    "- #### 字典是Python中用來查找東西的，具體而言，字典將鍵與值相關聯，亦就是字典由鍵與值(key-value)成對構成。幾乎所有類型的Python物件都可以作為鍵，不過一般還是以數字或者字元串最為常用。值可以是任意類型的Python物件，字典元素用大括號{}包裹。\n",
    "- #### 每個鍵必須是唯一的，但值可以重複。例如，建立名為“numbers”的字典，我們的字典有one，two，three等關鍵詞。每一個儲存為值的數字告訴我們關鍵詞的內容值。如下所示:"
   ]
  },
  {
   "cell_type": "code",
   "execution_count": null,
   "metadata": {},
   "outputs": [],
   "source": [
    "numbers = {'one': 1, 'two': 2, 'three': 3}\n",
    "print(numbers, ';', numbers['three'])"
   ]
  },
  {
   "cell_type": "code",
   "execution_count": null,
   "metadata": {},
   "outputs": [],
   "source": [
    "print(numbers.keys(), ';', numbers.values())"
   ]
  },
  {
   "cell_type": "markdown",
   "metadata": {},
   "source": [
    "#### 更改字典 – 新增和刪除信息\n",
    "- #### Python有幾種與字典數據互動的方式。我們可以使用許多功能。目前，我們將專注於新增和刪除字典中的內容的函數。\n",
    "- #### 輸入字典名稱後，可查看字典內所有的項目。"
   ]
  },
  {
   "cell_type": "markdown",
   "metadata": {},
   "source": [
    "#### 範例：添加項目到字典中"
   ]
  },
  {
   "cell_type": "code",
   "execution_count": null,
   "metadata": {},
   "outputs": [],
   "source": [
    "meaning = {'apple': 'round edible fruit',\n",
    "           'computer': 'electronic device that drives people crazy',\n",
    "           'window': 'glass fitted in a wall'\n",
    "           }\n",
    "# 加入項目\n",
    "meaning['python'] = 'large tropical snake'\n",
    "# 查詢，取用，獲得一個項目\n",
    "print(meaning['apple'], '\\n', meaning['python'], '\\n', len(meaning))"
   ]
  },
  {
   "cell_type": "markdown",
   "metadata": {},
   "source": [
    "#### 範例：使用update更改字典中現有項目的值"
   ]
  },
  {
   "cell_type": "code",
   "execution_count": null,
   "metadata": {},
   "outputs": [],
   "source": [
    "meaning.update({'window':'装在墙上的玻璃'})\n",
    "print(meaning)"
   ]
  },
  {
   "cell_type": "markdown",
   "metadata": {},
   "source": [
    "#### 範例：使用del將字典中項目刪除"
   ]
  },
  {
   "cell_type": "code",
   "execution_count": null,
   "metadata": {},
   "outputs": [],
   "source": [
    "del meaning['computer']\n",
    "print(meaning)"
   ]
  },
  {
   "cell_type": "markdown",
   "metadata": {},
   "source": [
    "[回本書目錄](#本書目錄)"
   ]
  },
  {
   "cell_type": "markdown",
   "metadata": {},
   "source": [
    "### 5.3 何時使用列表或字典\n",
    "- #### 當我們想要跟踪項目並需要記住這些項目的順序時，列表很好用。我們在日常生活中使用了許多符合這些標準的清單。列表的一些範例如下：\n",
    "    - #### 包含不同食品的雜貨清單\n",
    "    - #### MP3播放器中的歌曲標題列表\n",
    "    - #### 圖書館中可用的小說書名列表\n",
    "    - #### 可在網站上購買的商品列表\n",
    "- #### 這些東西中的每一個都具有作為合適特徵的順序，並且可以從列表中新增或移除項目。如果我們想用Python編寫一個簡短的程式來追蹤我們的小說書名或在MP3播放列表中找到歌曲，列表可能是一個很好的選擇。\n",
    "- #### 列表可以與迴圈一起使用來執行許多強大的操作。其中一些包括製作使用迴圈建立自己的列表或從大量使用者輸入製作列表。列表搜尋速度較慢，因為是從頭開始搜尋。\n",
    "- #### 當數據不需要訂單但需要與其他內容配對時，字典更有用。例如，您可能擁有小說和非小說類書籍，並且您想要編寫一個儲存標題、作者和類型的程式。在此情況使用字典會更好，這樣您就可以根據書名快速找出書的作者。您還可以與字典進行互動以進行更改。由於它不需要從頭開始搜尋，所以在字典進行搜尋的速度非常快。"
   ]
  },
  {
   "cell_type": "markdown",
   "metadata": {},
   "source": [
    "[回本書目錄](#本書目錄)"
   ]
  },
  {
   "cell_type": "markdown",
   "metadata": {},
   "source": [
    "### 5.4 Python Numpy 陣列(Arrays)\n",
    "#### 在數值操作上而言，NumPy陣列比Python列表更有效率。 NumPy陣列是專屬且廣泛優化的一個物件。換句話說，基於向量化概念而設計的NumPy程式碼比同等功能的Python程式碼需要更少的迴圈。如果我們回到高中數學，那麼我們應該能回憶起純量和向量的概念。例如數字12，是一個純量。當我們把12加上12，則我們正在執行純量加法運算。我們可以集合起一組純量來建立一個向量，在Python程式語言中，我們稱它為一個一維的陣列。當然，這個概念可以擴展到更高的多維度層面，例如矩陣。執行一個對兩個陣列的運算，比如加法，可以簡化為一組純量的加法運算。在直接的Python程式碼下，我們必須通過迴圈對一組純量的個別標記做一一的加法運算，這是相當冗長的。反觀，在數學運算裡，我們是把兩個向量作為一個單獨的操作來處理。NumPy陣列的運算也是這樣做的，並且使用優化後的低階C語言函數，讓這些基本操作達到更高效能。 NumPy陣列的運算在數據分析的使用上非常頻繁，我們將在進階課程再詳細地介紹NumPy陣列。"
   ]
  },
  {
   "cell_type": "markdown",
   "metadata": {},
   "source": [
    "[回本書目錄](#本書目錄)"
   ]
  },
  {
   "cell_type": "markdown",
   "metadata": {},
   "source": [
    "### 5.5 總結\n",
    "#### 在本章中，您學習如何建立自己的列表和字典。您還嘗試使用列表和字典執行一些基本操作，包括如何新增和刪除數據。最後，您了解列表和字典之間的語法差異以及列表和字典的最佳用法。在本章最後，我們附上一個名為What is in in backpack的遊戲！這個遊戲將是一個簡單的雙人遊戲，它將要求使用者將一些物品放入背包，然後讓每個使用者猜出其他使用者背包裡的東西。我們將編寫程式碼以將項目新增到列表中，追踪列表和字典中的使用者名稱、項目和分數，然後使用for迴圈來記錄分數。在我們的下一個遊戲中有很多活動部件，製作有兩個玩家的東西會很有趣！你準備好了嗎？\n",
    "\n",
    "### 你能回答以下這些問題嗎？\n",
    "#### Q1. 建立字典時使用的正確語法是什麼？\n",
    "    1.（）\n",
    "    2. {}\n",
    "    3. “”\n",
    "    4. []\n",
    "#### Q2. 一個列表中可以包含哪些類型的數據？\n",
    "    1. 僅限字元串\n",
    "    2. 只有浮點數\n",
    "    3. 整數和浮點數\n",
    "    4. 所有數據類型都可以包含在列表中\n",
    "#### Q3. 建立列表時使用的正確語法是什麼？\n",
    "    1.（）\n",
    "    2. {}\n",
    "    3. “”\n",
    "    4. []"
   ]
  },
  {
   "cell_type": "markdown",
   "metadata": {},
   "source": [
    "[回本書目錄](#本書目錄)"
   ]
  },
  {
   "cell_type": "markdown",
   "metadata": {},
   "source": [
    "### 遊戲 - 猜猜在你的背包裡有什麼?\n",
    "#### 每位玩家都有自己的虛擬背包：\n",
    "- #### 每位玩家輸入他們的名字，然後在他們的背包中放置四件物品。\n",
    "- #### 然後，每位玩家都有機會猜出其他玩家的背包裡有什麼。\n",
    "- #### 如果玩家猜對正確，則會輸出一條消息，並在分數中新增一點。\n",
    "- #### 如果玩家猜錯，則會輸出另一條消息，並且不會在分數中新增任何分數。"
   ]
  },
  {
   "cell_type": "code",
   "execution_count": null,
   "metadata": {},
   "outputs": [],
   "source": [
    "# 獲取有關玩家的資訊\n",
    "# 儲存有關玩家的資訊\n",
    "players = []\n",
    "for profile in range(2):   # <-- 執行迴圈來建立每個玩家。 \n",
    "    players.append({\n",
    "        \"name\": \"\",\n",
    "        \"score\": 0,\n",
    "        \"backpack\": []     # <-- 空列表儲存每個玩家背包中的物品\n",
    "    })\n",
    "    players[profile][\"name\"] = input(\"Enter name for player \" + str(profile + 1) + \": \")\n",
    "    print(\"Enter four (4) items to put into your backpack.\")\n",
    "    for item in range(4):\n",
    "        backpack_item = input(\"Item name: \")\n",
    "        players[profile][\"backpack\"].append(backpack_item)\n",
    "    print(players[profile][\"backpack\"])\n",
    "\n",
    "\n",
    "game_on = True\n",
    "while game_on:\n",
    "    for i in range(2):\n",
    "        player_choice = input(players[i][\"name\"] + \", guess an item from the other backpack: \")\n",
    "        other_player = players[(i+1) % 2]\n",
    "        if player_choice in other_player[\"backpack\"]:\n",
    "            print(\"You guessed an item from the backpack!\")\n",
    "            players[i][\"score\"] += 1\n",
    "        else:\n",
    "            print(\"You did not guess an item from the backpack.\")\n",
    "        play_again=''\n",
    "        play_again = input(\"Do you want to play again? Type 'Y' for 'YES', any keys for 'NO': \")\n",
    "        if (play_again == \"N\" or play_again == 'n'):\n",
    "            game_on = False\n",
    "\n",
    "for player in players:\n",
    "    print(player[\"name\"] + \" score: \" + str(player[\"score\"]))"
   ]
  },
  {
   "cell_type": "markdown",
   "metadata": {},
   "source": [
    "[回本書目錄](#本書目錄)"
   ]
  },
  {
   "cell_type": "markdown",
   "metadata": {},
   "source": [
    "## 6. 用Python繪圖-使用Turtle Graphics\n",
    "#### 用Python繪圖很容易。Python的烏龜繪圖模塊(Turtle Graphics module)可讓您在繪圖板(螢幕)周圍移動“烏龜”機器人，隨時繪製圖案。在本章中，我們將列舉六個例子，讓大家模仿與學習。\n",
    "#### 有關Turtle Graphics的使用文件可以參考並連結這個[網址](https://docs.python.org/3/library/turtle.html?highlight=turtle#module-turtle)"
   ]
  },
  {
   "cell_type": "markdown",
   "metadata": {},
   "source": [
    "[回本書目錄](#本書目錄)"
   ]
  },
  {
   "cell_type": "markdown",
   "metadata": {},
   "source": [
    "### 6.1 以矩形為基底繪製一個機器人\n",
    "<img src = \"./Images/RobotBuilderCN.png\" width=300, height=400></img>\n",
    "#### 上列之繪製一個機器人的流程圖顯示如何將個部份的程式碼組合在一起。首先，程式設置背景顏色和烏龜移動的速度。然後它從機器人的腳開始一步步到頭部的繪製。\n",
    "#### 讓我們首先導入烏龜模組並使用它來建立繪製矩形的函數。其編程次序如下:\n",
    "- #### 步驟1. 導入Turtle模組在程式頂部輸入此行。命令代碼import turtle as t允許你使用來自turtle模組的函數，t代表“turtle”的別名或簡稱，目的是不必每次都輸入“turtle”，輸入“t”即可。\n",
    "- #### 步驟2. 建立矩形函數以便未來用於繪製機器人的區塊。該函數功能有三個參數：水平側的長度; 垂直邊的長度; 和顏色。函數內將使用一個迴圈，每次執行時繪製一個水平邊和一個垂直邊，共執行兩次。將此矩形函數輸入在步驟1的程式碼下。"
   ]
  },
  {
   "cell_type": "code",
   "execution_count": null,
   "metadata": {},
   "outputs": [],
   "source": [
    "import turtle as t #匯入烏龜模組，並讓t為turtle的簡稱\n",
    "def rectangle(horizontal, vertical, color): \n",
    "    t.pendown() # 把烏龜的筆放下來開始畫畫。\n",
    "    t.pensize(1) # 筆頭的大小\n",
    "    t.color(color)  \n",
    "    t.begin_fill()  # 開始標示需要填滿顏色的圖形\n",
    "    for counter in range(2):  # 使用的範圍（2）使迴圈執行兩次。\n",
    "        t.forward(horizontal) \n",
    "        t.right(90)  \n",
    "        t.forward(vertical)  \n",
    "        t.right(90) \n",
    "    t.end_fill() # 將標示的圖形填滿顏色\n",
    "    t.penup() # 將烏龜的筆提起來以停止繪圖。\n",
    "\n",
    "t.penup() # 提起畫筆\n",
    "t.speed('slow')  # 畫筆速度\n",
    "t.bgcolor('Dodger blue') # 背景顏色\n",
    "t.shape(\"turtle\") # 畫筆形狀\n",
    "\n",
    "# feet 腳\n",
    "t.goto(-100, -150), rectangle(50, 20, 'blue'), t.goto(-30, -150), rectangle(50, 20, 'blue')\n",
    "# legs 腿\n",
    "t.goto(-25, -50), rectangle(15, 100, 'grey'), t.goto(-55, -50), rectangle(-15, 100, 'grey')\n",
    "# body 身體\n",
    "t.goto(-90, 100), rectangle(100, 150, 'red')\n",
    "# arms 胳膊\n",
    "t.goto(-150, 70), rectangle(60, 15, 'grey'), t.goto(-150, 110), rectangle(15, 40, 'grey')\n",
    "t.goto(10, 70), rectangle(60, 15, 'grey'), t.goto(55, 110), rectangle(15, 40, 'grey')\n",
    "# neck 頸部\n",
    "t.goto(-50, 120), rectangle(15, 20, 'grey')\n",
    "# head 頭\n",
    "t.goto(-85, 170), rectangle(80, 50, 'red')\n",
    "# eyes 眼睛\n",
    "t.goto(-60, 160), rectangle(30, 10, 'white') \n",
    "t.goto(-55, 155), rectangle(5, 5, 'black') \n",
    "t.goto(-40, 155), rectangle(5, 5, 'black')\n",
    "# mouth 嘴\n",
    "t.goto(-65, 135), rectangle(40, 5, 'black')\n",
    "t.hideturtle() # 將畫筆收起\n",
    "t.done() # 必須為烏龜圖形程式的最後一個語句，表結束"
   ]
  },
  {
   "cell_type": "markdown",
   "metadata": {},
   "source": [
    "[回本書目錄](#本書目錄)"
   ]
  },
  {
   "cell_type": "markdown",
   "metadata": {},
   "source": [
    "### 6.2 烏龜排隊"
   ]
  },
  {
   "cell_type": "code",
   "execution_count": null,
   "metadata": {},
   "outputs": [],
   "source": [
    "import turtle as t\n",
    "t.Screen().bgcolor(\"lightgreen\")\n",
    "t.shape(\"turtle\")\n",
    "t.color(\"blue\")\n",
    "t.penup()                # 將烏龜的筆提起來以停止繪圖\n",
    "size = 20\n",
    "for i in range(30):\n",
    "   t.stamp()             # 在畫面上留下痕跡\n",
    "   size = size + 3       # 增加每次遞迴的大小\n",
    "   t.forward(size)       # 向前移動\n",
    "   t.right(24)           # 把烏龜轉向右邊\n",
    "t.done()"
   ]
  },
  {
   "cell_type": "markdown",
   "metadata": {},
   "source": [
    "[回本書目錄](#本書目錄)"
   ]
  },
  {
   "cell_type": "markdown",
   "metadata": {},
   "source": [
    "### 6.3 使用重複簡單動作的程序繪製一朵花"
   ]
  },
  {
   "cell_type": "code",
   "execution_count": null,
   "metadata": {},
   "outputs": [],
   "source": [
    "import turtle as t\n",
    "t.shape(\"turtle\")\n",
    "t.color('red', 'yellow') # (筆頭顏色,填滿顏色)\n",
    "t.begin_fill()\n",
    "while True:\n",
    "    t.forward(300)\n",
    "    t.left(170)\n",
    "    if abs(t.pos()) < 1: # abs為取絕對值；pos為取得烏龜的位置\n",
    "        break\n",
    "t.end_fill()\n",
    "t.hideturtle()\n",
    "t.done()"
   ]
  },
  {
   "cell_type": "markdown",
   "metadata": {},
   "source": [
    "[回本書目錄](#本書目錄)"
   ]
  },
  {
   "cell_type": "markdown",
   "metadata": {},
   "source": [
    "### 6.4 星夜的40顆星星"
   ]
  },
  {
   "cell_type": "code",
   "execution_count": null,
   "metadata": {},
   "outputs": [],
   "source": [
    "import turtle as t\n",
    "from random import randint, random\n",
    "\n",
    "def draw_star(points, size, col, x, y):\n",
    "    t.penup()\n",
    "    t.goto(x, y)\n",
    "    t.pendown()\n",
    "    angle = 180 - (180 / points)\n",
    "    t.color(col)\n",
    "    t.begin_fill()\n",
    "    for i in range(points):\n",
    "        t.forward(size)\n",
    "        t.right(angle)\n",
    "    t.end_fill()\n",
    "\n",
    "# Main code\n",
    "t.Screen().bgcolor('dark blue')\n",
    "t.shape('turtle')\n",
    "t.fillcolor('green')\n",
    "t.speed('fastest')\n",
    "t.shapesize(5)\n",
    "for i in range(40):\n",
    "    ranPts = randint(2, 5) * 2 + 1\n",
    "    ranSize = randint(10, 50)\n",
    "    ranCol = (random(), random(), random())\n",
    "    ranX = randint(-350, 300)\n",
    "    ranY = randint(-250, 250)\n",
    "    draw_star(ranPts, ranSize, ranCol, ranX, ranY)\n",
    "t.hideturtle()\n",
    "t.done()"
   ]
  },
  {
   "cell_type": "markdown",
   "metadata": {},
   "source": [
    "[回本書目錄](#本書目錄)"
   ]
  },
  {
   "cell_type": "markdown",
   "metadata": {},
   "source": [
    "### 6.5 突變的彩虹"
   ]
  },
  {
   "cell_type": "code",
   "execution_count": null,
   "metadata": {},
   "outputs": [],
   "source": [
    "import random\n",
    "import turtle as t\n",
    "\n",
    "def get_line_length():\n",
    "    while True:\n",
    "        try:\n",
    "            choice = int(input('Enter line length [(1)long, (2)medium, (3)short]: '))\n",
    "            break\n",
    "        except ValueError:\n",
    "            print('Oops! That was not a valid number. Please Try again.....')\n",
    "    if choice == 'long':\n",
    "        line_length = 250\n",
    "    elif choice == 'medium':\n",
    "        line_length = 200\n",
    "    else:\n",
    "        line_length = 100\n",
    "    return line_length\n",
    "\n",
    "def get_line_width():\n",
    "    while True:\n",
    "        try:\n",
    "            choice = int(input('Enter line width [(1)superthick, (2)thick, (3) thin]: '))\n",
    "            break\n",
    "        except ValueError:\n",
    "            print('Oops! That was not a valid number. Please Try again.....')\n",
    "    if choice == 'superthick':\n",
    "        line_width = 40\n",
    "    elif choice == 'thick':\n",
    "        line_width = 25\n",
    "    else:\n",
    "        line_width = 10\n",
    "    return line_width\n",
    "\n",
    "def inside_window():\n",
    "    left_limit = (-t.window_width() / 2) + 100\n",
    "    right_limit = (t.window_width() / 2) - 100\n",
    "    top_limit = (t.window_height() / 2) - 100\n",
    "    bottom_limit = (-t.window_height() / 2) + 100\n",
    "    (x, y) = t.pos()\n",
    "    inside = left_limit < x < right_limit and bottom_limit < y < top_limit\n",
    "    return inside\n",
    "\n",
    "def move_turtle(line_length):\n",
    "    pen_colors = ['red', 'orange', 'yellow', 'green', 'blue', 'purple']\n",
    "    t.pencolor(random.choice(pen_colors))\n",
    "    if inside_window():\n",
    "        angle = random.randint(0, 180)\n",
    "        t.right(angle)\n",
    "        t.forward(line_length)\n",
    "    else:\n",
    "        t.backward(line_width)\n",
    "\n",
    "line_length = get_line_length()\n",
    "line_width = get_line_width()\n",
    "\n",
    "t.shape('turtle')\n",
    "t.fillcolor('green')\n",
    "t.bgcolor('black')\n",
    "t.speed('fastest')\n",
    "t.pensize(line_width)\n",
    "for i in range(80):\n",
    "    move_turtle(line_length)\n",
    "t.hideturtle()\n",
    "t.done()"
   ]
  },
  {
   "cell_type": "markdown",
   "metadata": {},
   "source": [
    "[回本書目錄](#本書目錄)"
   ]
  },
  {
   "cell_type": "markdown",
   "metadata": {},
   "source": [
    "### 6.6 色彩繽紛的萬花筒螺旋"
   ]
  },
  {
   "cell_type": "code",
   "execution_count": null,
   "metadata": {},
   "outputs": [],
   "source": [
    "import turtle as t\n",
    "from itertools import cycle\n",
    "\n",
    "colors = cycle(['red', 'orange', 'yellow', 'green', 'blue', 'purple'])\n",
    "\n",
    "def draw_circle(size, angle, shift):\n",
    "    t.pencolor(next(colors))\n",
    "    t.circle(size)\n",
    "    t.right(angle)\n",
    "    t.forward(shift)\n",
    "    draw_circle(size + 5, angle + 1, shift + 1)\n",
    "t.shape('turtle')\n",
    "t.fillcolor('green')\n",
    "t.shapesize(10)\n",
    "t.bgcolor('black')\n",
    "t.speed('fastest')\n",
    "t.pensize(4)\n",
    "draw_circle(30, 0, 1)\n",
    "t.hideturtle()\n",
    "t.done()"
   ]
  },
  {
   "cell_type": "markdown",
   "metadata": {},
   "source": [
    "[回本書目錄](#本書目錄)"
   ]
  },
  {
   "cell_type": "markdown",
   "metadata": {},
   "source": [
    "### 6.7 聖誕樹"
   ]
  },
  {
   "cell_type": "code",
   "execution_count": null,
   "metadata": {},
   "outputs": [],
   "source": [
    "import turtle\n",
    "\n",
    "screen = turtle.Screen()\n",
    "screen.setup(800,600)\n",
    "\n",
    "circle = turtle.Turtle()\n",
    "circle.shape('circle')\n",
    "circle.color('red')\n",
    "circle.speed('fastest')\n",
    "circle.up()\n",
    "\n",
    "square = turtle.Turtle()\n",
    "square.shape('square')\n",
    "square.color('green')\n",
    "square.speed('fastest')\n",
    "square.up()\n",
    "\n",
    "circle.goto(0,280)\n",
    "circle.stamp()\n",
    "\n",
    "k = 0\n",
    "for i in range(1, 17):\n",
    "    y = 30*i\n",
    "    for j in range(i-k):\n",
    "        x = 30*j\n",
    "        square.goto(x,-y+280)\n",
    "        square.stamp()\n",
    "        square.goto(-x,-y+280)\n",
    "        square.stamp()\n",
    "\n",
    "    if i % 4 == 0:\n",
    "        x =  30*(j+1)\n",
    "        circle.color('red')\n",
    "        circle.goto(-x,-y+280)\n",
    "        circle.stamp()\n",
    "        circle.goto(x,-y+280)\n",
    "        circle.stamp()        \n",
    "        k += 2\n",
    "\n",
    "    if i % 4 == 3:\n",
    "        x =  30*(j+1)\n",
    "        circle.color('yellow')\n",
    "        circle.goto(-x,-y+280)\n",
    "        circle.stamp()\n",
    "        circle.goto(x,-y+280)\n",
    "        circle.stamp() \n",
    "\n",
    "square.color('brown')\n",
    "for i in range(17,20):\n",
    "    y = 30*i\n",
    "    for j in range(3):    \n",
    "        x = 30*j\n",
    "        square.goto(x,-y+280)\n",
    "        square.stamp()\n",
    "        square.goto(-x,-y+280)\n",
    "        square.stamp()        \n",
    "        \n",
    "turtle.exitonclick()"
   ]
  },
  {
   "cell_type": "markdown",
   "metadata": {},
   "source": [
    "[回本書目錄](#本書目錄)"
   ]
  },
  {
   "cell_type": "markdown",
   "metadata": {},
   "source": [
    "## 7. 用Python寫遊戲-使用pygame\n",
    "### pygame是一套跨平台的Python模組，專為編寫影像遊戲而設計。它包括電腦圖形和聲音庫，與Python程式語言一起配合使用。\n",
    "### pygame建立在SDL的基礎上，SDL是一套開放原始碼的跨平台多媒體開發函數庫，使用C語言編寫而成。 SDL提供了數種控制圖像，聲音，輸出入的函數，讓開發者只要用相同或是相似的程式碼就可以開發出跨多個平台的應用軟體。目前SDL多用於開發遊戲，模擬器，媒體播放器等多媒體應用領域。\n",
    "### 誠如pygame中的官方網站所敘述，pygame的是一組用於撰寫遊戲的Python的模組。就如同Python的一樣， pygame的是免費和開源的，這意味著它可以免費使用並與他人共享，pygame的開發者確保它可以兼容多種不同圖形顯示引擎，所以這意味著使用pygame的開發的遊戲可以在各種環境中遊玩。pygame的官方開發文件及案例教學，可以參考其[官網](https://www.pygame.org/docs/)。"
   ]
  },
  {
   "cell_type": "markdown",
   "metadata": {},
   "source": [
    "[回本書目錄](#本書目錄)"
   ]
  },
  {
   "cell_type": "markdown",
   "metadata": {},
   "source": [
    "### 7.1 安裝pygame"
   ]
  },
  {
   "cell_type": "markdown",
   "metadata": {},
   "source": [
    "[回本書目錄](#本書目錄)"
   ]
  },
  {
   "cell_type": "markdown",
   "metadata": {},
   "source": [
    "### 7.2 初始化pygame\n",
    "#### 要啟動pygame的，我們必須要先初始化pygame的我們必須要用到的init（）這一個函數來進行初始化："
   ]
  },
  {
   "cell_type": "code",
   "execution_count": 1,
   "metadata": {},
   "outputs": [
    {
     "name": "stdout",
     "output_type": "stream",
     "text": [
      "pygame 1.9.4\n",
      "Hello from the pygame community. https://www.pygame.org/contribute.html\n"
     ]
    },
    {
     "data": {
      "text/plain": [
       "(6, 0)"
      ]
     },
     "execution_count": 1,
     "metadata": {},
     "output_type": "execute_result"
    }
   ],
   "source": [
    "import pygame\n",
    "pygame.init()"
   ]
  },
  {
   "cell_type": "markdown",
   "metadata": {},
   "source": [
    "#### 設定遊戲畫面的大小 - 在設計一個遊戲的最開始，我們首先要先學會如何設定遊戲畫面的大小點擊。先宣告兩個變數screen_width還有screen_height，然後再使用pygame.display.set_mode()函數來進行設定："
   ]
  },
  {
   "cell_type": "raw",
   "metadata": {},
   "source": [
    "screen_width = 400\n",
    "screen_height = 600\n",
    "pygame.display.set_mode((screen_width, screen_height))"
   ]
  },
  {
   "cell_type": "markdown",
   "metadata": {},
   "source": [
    "#### 設定遊戲畫面的顏色 - 在電腦畫面中顏色的調配都是以紅色(R)、綠色(G)、藍色(B)三種原色所配製而成的。顏色份量多寡的等級會由最小的0到最大的255合計256個數字來區分。舉例常見的RGB顏色："
   ]
  },
  {
   "cell_type": "raw",
   "metadata": {},
   "source": [
    "black = (0, 0, 0)\n",
    "white = (255, 255, 255)\n",
    "red = (255, 0, 0)\n",
    "green = (0, 255, 0)\n",
    "blue = (0, 0, 255)"
   ]
  },
  {
   "cell_type": "markdown",
   "metadata": {},
   "source": [
    "#### 再來就是宣告一個變數game_screen，並且將前面所用到的pygame.display.set_mode()函數，配置好螢幕大小後，並指派給game_screen。完成後以fill()函數填充螢幕的顏色："
   ]
  },
  {
   "cell_type": "raw",
   "metadata": {},
   "source": [
    "game_screen = pygame.display.set_mode((screen_width, screen_height))\n",
    "game_screen.fill(black)"
   ]
  },
  {
   "cell_type": "markdown",
   "metadata": {},
   "source": [
    "[回本書目錄](#本書目錄)"
   ]
  },
  {
   "cell_type": "markdown",
   "metadata": {},
   "source": [
    "### 7.3 製作固定物體"
   ]
  },
  {
   "cell_type": "markdown",
   "metadata": {},
   "source": [
    "#### 現在我們要將靜止不動的物體放進螢幕裡面，因此我們需要知道東西要放在哪裡(座標)。如下圖所示，pygame的X軸與Y軸分別是向右向下遞增從(0,0)延伸到我們剛才配置螢幕的(400,600):\n",
    "<img src = \"./Images/pygame_XY_Axis.png\" width=300, height=600 > </img>\n",
    "#### 圓形\n",
    "#### 以上述可知如果我們要畫一個圓在螢幕的正中間圓心座標則會是(200,300)。畫這一個圓圈會用到的函數是:\n",
    "> #### pygame.draw.circle(Surface, color, pos, radius)\n",
    "- surface在這邊表示需要放進螢幕(介面)的變數所以我們要放進game_screen\n",
    "- color顧名思義就是畫的圈圈的顏色的變數所以我們如果想要畫一個紅色的圈這邊的變數則是要放red\n",
    "- pos其實是position的簡稱所以我們要放的位置是(200,300)\n",
    "- radius代表邊界到中心的距離(圓半徑)\n",
    "#### 由上述的解釋我們函數則會變成："
   ]
  },
  {
   "cell_type": "raw",
   "metadata": {},
   "source": [
    "pygame.draw.circle(game_screen, red, (200, 300), 20)\n",
    "pygame.display.update()"
   ]
  },
  {
   "cell_type": "markdown",
   "metadata": {},
   "source": [
    "#### 長方形\n",
    "#### 既然你知道如何繪製圓形，那麼你就準備好製作其他形狀了。要繪製矩形我們會用到函數：\n",
    "> #### pygame.draw.rect(Surface, color (x, y, width, height))\n",
    "> #### 與畫圓形不同的地方是\n",
    "- x,y是決定長方形左上角的那一個頂點位置<br>\n",
    "- width, height則是要放入長方形寬跟高的數值<br>"
   ]
  },
  {
   "cell_type": "raw",
   "metadata": {},
   "source": [
    "pygame.draw.rect(game_screen, blue, (20, 20, 50, 80))\n",
    "pygame.display.update()"
   ]
  },
  {
   "cell_type": "markdown",
   "metadata": {},
   "source": [
    "#### 橢圓\n",
    "#### 要繪製橢圓我們會用到函數：\n",
    "> #### pygame.draw.ellipse(Surface, color,(x, y, width, height))\n",
    "- 你會發現到橢圓函數接受與矩形函數相同的參數，但橢圓將繪製矩形內的圓圈"
   ]
  },
  {
   "cell_type": "raw",
   "metadata": {},
   "source": [
    "pygame.draw.ellipse(game_screen, white, (300, 200, 40, 80))\n",
    "pygame.display.update()"
   ]
  },
  {
   "cell_type": "markdown",
   "metadata": {},
   "source": [
    "[回本書目錄](#本書目錄)"
   ]
  },
  {
   "cell_type": "markdown",
   "metadata": {},
   "source": [
    "### 7.4 製作移動物體\n",
    "#### 現在，值得玩的影像遊戲有移動物件。移動物體有很多比靜止物體要解決的問題更多。這裡有一些關於移動物體問題要先想想看:\n",
    "- #### 您希望物體在畫面上的起始位置？\n",
    "- #### 物體如何移動？\n",
    "- #### 物體如何知道移動速度有多快？\n",
    "- #### 當物體碰到另一個物體(碰撞)時，它如何反應？\n",
    "- #### 當物體撞擊畫面邊緣時，物體如何反應？\n",
    "- #### 物體如何知道何時停止移動？\n",
    "\n",
    "#### 其實我們建立一個移動物體與我們建立一個固定物體，他們在螢幕上繪出的方式是相同的\n",
    "#### 使用鍵盤移動物件\n",
    "> #### 讓我們假設我們想要在畫面上移動我們的紅色圓圈，我們需要考慮的是如何讓它動起來，程式是:\n",
    "- 先繪製一個物體\n",
    "- 從使用者按下的按鍵獲取使用者輸入\n",
    "- 根據使用者操作，使用pygame.display.update()重繪該物體\n",
    "\n",
    "#### pygame.key模組包含使用鍵盤的方法。在遊戲進行期間，我們需要知道使用者是否按了一個鍵來移動藍色矩形。要確定使用者是否按了一個鍵來移動矩形，我們將使用這行程式碼，例如：\n",
    "> #### pygame.key.get_pressed()\n",
    "#### 現在，如果我們想要控制當使用者按下鍵時電腦如何獲取輸入，我們可以使用以下程式碼：\n",
    "> #### pygame.key.set_repeat()\n",
    "- 告訴電腦當有人按鍵或反覆按鍵時該怎麼做，這在遊戲中經常發生。我們將使用這些關鍵的函數來設置一些關於按下某些鍵時紅色圓圈如何移動的if/else條件。您將在下一章中看到實際應用的條件邏輯。現在，鍵盤上有很多按鍵。在繼續下一章之前，最好查看pygame的文件並學習如何選擇鍵值。例如，如果要使用向下箭頭鍵，則可以使用[pygame.K_DOWN]來標識該鍵，然後使用其他程式碼來查看如果按下向下鍵會發生什麼。"
   ]
  },
  {
   "cell_type": "markdown",
   "metadata": {},
   "source": [
    "[回本書目錄](#本書目錄)"
   ]
  },
  {
   "cell_type": "markdown",
   "metadata": {},
   "source": [
    "### 7.5 總結\n",
    "在本章中，我們講授用pygame製作互動式遊戲所需之最基本的一些函數。首先在操作系統上安裝pygame的。然後，初始化pygame的以便與電腦進行互動。我們可以設置遊戲畫面的特徵，包括大小和顏色。將固定物體新增到遊戲畫面，並學習了一些方法來更改這些物體。我們編寫了一些移動物體的程式碼並且也解釋了。在下一章中，我們將使用我們在本書中學習到的所有技能來建構一個遊戲。建議您再次閱讀本書，並重複練習任何您不全然理解的主題。強烈建議您訪問pygame的文件並儘可能閱讀更多的內容。"
   ]
  },
  {
   "cell_type": "markdown",
   "metadata": {},
   "source": [
    "### 你能回答以下這些問題嗎？\n",
    "#### Q1. 你是如何開始pygame的？\n",
    "    1. pygame.display.set_mode()\n",
    "    2. pygame.init()\n",
    "    3. pygame.exit()\n",
    "    4. pygame.quit\n",
    "#### Q2. 物件如何在pygame中移動？\n",
    "    1.物件使用速度移動\n",
    "    2.物件使用重力移動\n",
    "    3.物件使用碰撞檢測移動\n",
    "    4.物件似乎只是移動，但它們實際上是不斷重繪的。\n",
    "#### Q3. 如何使用pygame重繪物件？\n",
    "    1. pygame.rerender()\n",
    "    2. pygame.display.object()\n",
    "    3. pygame.display.update()\n",
    "    4. pygame.rect()\n",
    "#### Q4. 什麼是用於識別pygame中的鍵的簡寫？\n",
    "    1. pygame.K_keyname\n",
    "    2. pygame.keyname\n",
    "    3. pygame.keys.K.name\n",
    "    4. pygame.key"
   ]
  },
  {
   "cell_type": "markdown",
   "metadata": {},
   "source": [
    "[回本書目錄](#本書目錄)"
   ]
  },
  {
   "cell_type": "markdown",
   "metadata": {},
   "source": [
    "## 8. 用Pygame寫迷你版網球遊戲\n",
    "在上一章中，我們介紹了pygame中的基本模組、類別和函數。本章將利用這些功能製作一個名為Tiny Tennis的新遊戲。Tiny Tennis是一款雙人的遊戲，它使用鍵盤上的按鍵來控制兩個上下移動的球拍。雖然這個遊戲看起來很簡單，但要建構這個遊戲則需要將pygame中不同的模組、類別和函數組合起來。撰寫一個遊戲程式是要有步驟的。首先要列出遊戲的方針與規劃，將整體遊戲以功能面拆分為相對的遊戲區塊，針對各遊戲區塊功能撰寫程式碼，最後是整合所有區塊。"
   ]
  },
  {
   "cell_type": "markdown",
   "metadata": {},
   "source": [
    "### 8.1 遊戲編程準則\n",
    "#### 本章中我們介紹遊戲程式編寫的準則。 首先，請記住，我們建立的物體在畫面中移動其實是錯覺。在現實中，物體是會移動的，在程式編寫上我們會先定義繪製某一物體的準則，然後在程式執行時在不同的螢幕位置重繪它。另一個遊戲程式編寫的準則是遊戲的迴圈。遊戲迴圈很重要，因為它控制遊戲中需要發生連續發生的的所有事件，包括移動和重繪某一物體。 遊戲迴圈的時間設計也是非常重要，因為這會告訴電腦執行遊戲迴圈的次數。每次遊戲迴圈執行時也稱為一個Frame，遊戲迴圈執行的速度稱為Frame rate。最後，遊戲程式編寫與設計要考慮玩家如何與遊戲互動，也就是說我們要考慮玩家如何使用按鍵。 當然，遊戲如果有計分的狀況，遊戲程式應該能將分數的現況儲存在程式的變數中，並將其顯示在畫面上的某個位置。\n",
    "- #### 遊戲的規劃\n",
    "    在編寫任何程式碼，我們應該使用註釋來概述我們的遊戲。使用註釋的習慣可以更好地將程式碼的設計與思維組織起來。\n",
    "- #### 建立遊戲區塊的大綱\n",
    "    我們將遊戲區分為四個部分。遊戲的各個部分如下：\n",
    "        * 導入需要的Python模組、定義全域變數、靜態物體的基本繪圖(球、球拍與畫面等等)\n",
    "        * 移動球拍的動作\n",
    "        * 移動球的動作\n",
    "        * 繪製畫面並更新分數的動作\n",
    "\n",
    "#### 在程式碼編輯器(Python IDLE或Jupyter Notebook)中建立一個名為tiny.py的文件。 然後，在tiny.py文件中輸入： "
   ]
  },
  {
   "cell_type": "raw",
   "metadata": {},
   "source": [
    "# 遊區分為以下四個部分\n",
    "# 導入需要的Python模組、定義全域變數、靜態物體的基本繪圖(球與球拍等等)\n",
    "# 移動球拍的程式碼 \n",
    "# 移動球的程式碼 \n",
    "# 移動球的程式碼 "
   ]
  },
  {
   "cell_type": "markdown",
   "metadata": {},
   "source": [
    "#### 雖然，有很多可能的方法來編寫這個遊戲的程式碼，然而我們將以本書中學到的所有概念來製作這個迷你網球遊戲。 在下一章中，我們將討論一些更進階(和更簡化)的程式編寫技術，以便我們可以使用這些技術使這個遊戲做更多的事情並更有效率地被完成。 但是現在，讓我們開始這個遊戲吧！"
   ]
  },
  {
   "cell_type": "markdown",
   "metadata": {},
   "source": [
    "[回本書目錄](#本書目錄)"
   ]
  },
  {
   "cell_type": "markdown",
   "metadata": {},
   "source": [
    "### 8.2 導入需要的Python模組、定義全域變數、靜態物體的基本繪圖\n",
    "#### 在這個部分中，將包括導入Python模組、定義全域變數、以及繪製畫面、球及球拍。"
   ]
  },
  {
   "cell_type": "markdown",
   "metadata": {},
   "source": [
    "### 8.2.1 導入需要的Python模組及初始化\n",
    "- #### 我們編寫的第一行程式碼將Python模組，包括pygame。 我們將在遊戲中使用三個Python模組：pygame，math和random。導入pygame是因為它提供了需多有利於遊戲設計的視覺元素。導入Python的隨機函數庫(random)是為了使我們能夠在遊戲中選擇和使用隨機函數。 數學函數庫也包含在導入中，它允許使用浮點數進行數學運算。要在程式碼中使用這些模組和文件，請在#imports globals and drawing註釋下的tiny.py文件中輸入以下行：\n",
    "- #### 您可以在程式碼中寫些註釋以幫助您來組織您的想法。現在，我們將初始化pygame，以便我們能夠使用所有功能，包括啟動screen，繪製圖形和執行遊戲迴圈。 要初始化pygame，我們使用init()函數。 \n",
    "- #### pygame.init()啟動後，pygame進入持續執行狀態，一直到玩家退出程式後，pygame才停止運作。在玩家未退出前，我們在整個遊戲中都可以存取pygame內的所有內容。"
   ]
  },
  {
   "cell_type": "markdown",
   "metadata": {},
   "source": [
    "[回本書目錄](#本書目錄)"
   ]
  },
  {
   "cell_type": "raw",
   "metadata": {},
   "source": [
    "# 遊區分為以下四個部分\n",
    "# 導入需要的Python模組、定義全域變數、靜態物體的基本繪圖(球與球拍等等)\n",
    "# import python modules\n",
    "import pygame\n",
    "import random\n",
    "import time"
   ]
  },
  {
   "cell_type": "raw",
   "metadata": {},
   "source": [
    "#初始化 pygame\n",
    "pygame.init()"
   ]
  },
  {
   "cell_type": "markdown",
   "metadata": {},
   "source": [
    "[回本書目錄](#本書目錄)"
   ]
  },
  {
   "cell_type": "markdown",
   "metadata": {},
   "source": [
    "### 8.2.2 導入全域變數\n",
    "- #### 我們已經導入了需要的Python模組，現在來定義在全程遊戲中需要的變數名稱，由於這些變數的內容會被不同的程式碼區塊使用，因此我們宣告他們為全域的變數。換句話說，全域變數是我們可以在整個程式碼文件中使用的變數。全域變數在這個遊戲的整個程式碼文件中有:顏色、畫面、球、球拍。\n",
    "- #### 定義顏色: 顏色是由括號中列出的三個不同的數字表示的。我們不必重複編寫這些數字，而是為每種顏色宣告一個全域變數，以便我們可以在整個遊戲中藉由顏色的變數名稱使用所有顏色。現在，根據您喜歡的顏色，您可以自行決定要新增到程式碼中的顏色。以下是常見的顏色列表。 \n",
    "    - red 紅色 = (255, 0, 0), \n",
    "    - orange 橘色 = (255, 127, 0)\n",
    "    - yellow 黃色 = (255, 255, 0)\n",
    "    - green 綠色 = (0, 255, 0)\n",
    "    - blue 藍色 = (0, 0, 255)\n",
    "    - violet 紫色 = (127, 0, 255)\n",
    "    - brown 棕色 = (102, 51, 0)\n",
    "    - black 黑色 = (0, 0, 0)\n",
    "    - white 白色 = (255, 255, 255)\n",
    "- #### 上面的列表顯示了您可以在遊戲程式碼中使用的基本顏色。 如果您想要包含更多其它顏色，可以在網路搜索引擎(例如Google)中搜尋rgb顏色代碼圖表，您會發現每種顏色都有不同的變化，您可以根據自己的喜好進行更改。 "
   ]
  },
  {
   "cell_type": "raw",
   "metadata": {},
   "source": [
    "#顏色的全域變數\n",
    "red = (255, 0, 0)\n",
    "orange = (255, 127, 0)\n",
    "yellow = (255, 255, 0)\n",
    "green = (0, 255, 0)\n",
    "blue = (0, 0, 255)\n",
    "violet = (127, 0, 255)\n",
    "brown = (102, 51, 0)\n",
    "black = (0, 0, 0)\n",
    "white = (255, 255, 255)"
   ]
  },
  {
   "cell_type": "markdown",
   "metadata": {},
   "source": [
    "[回本書目錄](#本書目錄)"
   ]
  },
  {
   "cell_type": "markdown",
   "metadata": {},
   "source": [
    "### 8.2.3 調整畫面尺寸\n",
    "- #### 我們使用全域變數來定義畫面顯示的寬度和高度。為畫面的寬度和高度請新增以下程式碼\n",
    "- #### 當我們宣告了screen_width和screen_height變數後，我們可以在整個程式碼中使用這些變數，這使我們的程式碼更易於閱讀。 \n",
    "- #### 此外，如果我們決定更改畫面寬度或畫面高度，我們可以對全域變數進行更改，也不會影響程式的正常執行。"
   ]
  },
  {
   "cell_type": "raw",
   "metadata": {},
   "source": [
    "# screen globals 畫面的全域變數\n",
    "screen_width = 600\n",
    "screen_height = 400"
   ]
  },
  {
   "cell_type": "markdown",
   "metadata": {},
   "source": [
    "[回本書目錄](#本書目錄)"
   ]
  },
  {
   "cell_type": "markdown",
   "metadata": {},
   "source": [
    "### 8.2.4 繪製畫面\n",
    "- #### screen_width和screen_height變數是pygame需要的基本資訊，它是用來設置實際的遊戲畫面。 \n",
    "- #### pygame有一個名為pygame.display.set_mode()的函數，它接受screen_width和screen_height的變數來顯示畫面。 \n",
    "- 由於編寫pygame.display.set_mode((screen_width，screen_height))真的很長。所以我們將把它宣告為一個名為game_screen的全域變數："
   ]
  },
  {
   "cell_type": "raw",
   "metadata": {},
   "source": [
    "game_screen = pygame.display.set_mode((screen_width, screen_height))"
   ]
  },
  {
   "cell_type": "markdown",
   "metadata": {},
   "source": [
    "- #### 執行以上程式碼，您將會看到電腦依您的只是開啟了一個視窗\n",
    "<img src = \"./Images/pygameWindow.png\" width=300, height=400></img>"
   ]
  },
  {
   "cell_type": "markdown",
   "metadata": {},
   "source": [
    "- #### 建立畫面標籤: 我們使用的下一組功能為設定畫面頂部的文字和遊戲畫面的字體。 第一行程式碼定義了我們想要查看的文字字符串，在下一行中，我們定義了字體和大小。 如果字體和大小不可用，字體將使用系統上最初設置的內容。 這適用於Windows，Mac和Linux系統。"
   ]
  },
  {
   "cell_type": "raw",
   "metadata": {},
   "source": [
    "pygame.display.set_caption(\"Tiny Tennis\")\n",
    "font = pygame.font.SysFont(\"monospace\", 75)"
   ]
  },
  {
   "cell_type": "markdown",
   "metadata": {},
   "source": [
    "- #### 建立遊戲畫面所需的所有基本變數設定可以參見以下的程式碼示例。我們現在可以繼續製作球、球拍和得分所需的全域變數。"
   ]
  },
  {
   "cell_type": "raw",
   "metadata": {},
   "source": [
    "# 畫面的全域變數\n",
    "screen_width = 600\n",
    "screen_height = 400\n",
    "game_screen = pygame.display.set_mode((screen_width, screen_height))\n",
    "pygame.display.set_caption(\"Tiny tennis\")\n",
    "font = pygame.font.SysFont(\"monospace\", 75)"
   ]
  },
  {
   "cell_type": "markdown",
   "metadata": {},
   "source": [
    "[回本書目錄](#本書目錄)"
   ]
  },
  {
   "cell_type": "markdown",
   "metadata": {},
   "source": [
    "### 8.2.5 設定球的起始位置、速度和方向以及大小\n",
    "- #### 在迷你版網球遊戲中，球是比賽中最重要的部分之一。我們需要賦予球一些全域變數的特徵，以便可以繪製和重繪這顆球並創造運動的視覺。"
   ]
  },
  {
   "cell_type": "markdown",
   "metadata": {},
   "source": [
    "#### 設定球的起始位置\n",
    "- #### 首先，我們需要設定球的x，y坐標。通過為此建立一個全域變數，我們可以告訴電腦在哪裡重繪這顆球而無需為球的每次移動編寫特定的程式碼。我們將設定x和y的預設值，以便球在畫面的中心開始。"
   ]
  },
  {
   "cell_type": "raw",
   "metadata": {},
   "source": [
    "# ball globals\n",
    "ball_x = int(screen_width / 2)\n",
    "ball_y = int(screen_height / 2)"
   ]
  },
  {
   "cell_type": "markdown",
   "metadata": {},
   "source": [
    "#### 設定球的速度和方向\n",
    "- #### 我們已經定義了以畫面中心為球的開始點。我們現在來定義球的移動距離，也就是每次球在x和y坐標上要移動多遠\n",
    "- #### 我們定義變數ball_xv並使ball_xv = 3表示每次重繪畫面時，球將沿x軸移動3個像素。同理，ball_yv = 3表示每次重繪畫面時，球將沿y軸移動3個像素。v代表速度的意義。"
   ]
  },
  {
   "cell_type": "raw",
   "metadata": {},
   "source": [
    "ball_xv = 3\n",
    "ball_yv = 3"
   ]
  },
  {
   "cell_type": "markdown",
   "metadata": {},
   "source": [
    "#### 設定球的大小\n",
    "- #### 關於設定球的大小也就是定義球的半徑。 半徑是以像素的數目來表示。"
   ]
  },
  {
   "cell_type": "raw",
   "metadata": {},
   "source": [
    "ball_r = 20"
   ]
  },
  {
   "cell_type": "markdown",
   "metadata": {},
   "source": [
    "#### 現在我們已經定義了球的起始位置、速度和方向以及大小，看一下這部分代碼的示例:"
   ]
  },
  {
   "cell_type": "raw",
   "metadata": {},
   "source": [
    "# 球的全域變數\n",
    "ball_x = int(screen_width / 2)\n",
    "ball_y = int(screen_height / 2)\n",
    "ball_xv = 3\n",
    "ball_yv = 3\n",
    "ball_r = 20"
   ]
  },
  {
   "cell_type": "markdown",
   "metadata": {},
   "source": [
    "[回本書目錄](#本書目錄)"
   ]
  },
  {
   "cell_type": "markdown",
   "metadata": {},
   "source": [
    "### 8.2.6 設定球拍的起始位置和大小\n",
    "- #### 在我們的遊戲中，我們將有兩個球拍。我們將以非常簡單的程式碼來定義球拍。\n",
    "- #### 我們以四種特質來定義球拍：x軸上的起始位置，y軸上的起始位置，寬度和高度。"
   ]
  },
  {
   "cell_type": "raw",
   "metadata": {},
   "source": [
    "# draw paddle 1\n",
    "paddle1_x = 10\n",
    "paddle1_y = 10\n",
    "paddle1_w = 25\n",
    "paddle1_h = 100"
   ]
  },
  {
   "cell_type": "markdown",
   "metadata": {},
   "source": [
    "- #### 上面的編寫的程式碼是針對paddle1的。我們定義paddle2的大小與paddle1相等，但它位於paddle1的對面。 "
   ]
  },
  {
   "cell_type": "raw",
   "metadata": {},
   "source": [
    "# draw paddle 2\n",
    "paddle2_x = screen_width - 25 - 10\n",
    "paddle2_y = 10\n",
    "paddle2_w = 25\n",
    "paddle2_h = 100"
   ]
  },
  {
   "cell_type": "markdown",
   "metadata": {},
   "source": [
    "- #### 上面的編寫的程式碼中，paddle2的x坐標是screen_width變數的值減去球拍寬度，然後再減去paddle1的x坐標值。 這個數學運算是為了確保兩個球拍分別與畫面右側的距離及畫面左側的距離相同。 "
   ]
  },
  {
   "cell_type": "markdown",
   "metadata": {},
   "source": [
    "[回本書目錄](#本書目錄)"
   ]
  },
  {
   "cell_type": "markdown",
   "metadata": {},
   "source": [
    "### 8.2.7 初始化分數\n",
    "- #### 我們為每個玩家建立一個分數初始值，也就是由零開始的全域變數。 因為這是一個全域變數，它會隨著遊戲迴圈的執行而改變。"
   ]
  },
  {
   "cell_type": "raw",
   "metadata": {},
   "source": [
    "# initialize score\n",
    "player1_score = 0\n",
    "player2_score = 0"
   ]
  },
  {
   "cell_type": "markdown",
   "metadata": {},
   "source": [
    "[回本書目錄](#本書目錄)"
   ]
  },
  {
   "cell_type": "markdown",
   "metadata": {},
   "source": [
    "### 8.2.8 測試\n",
    "- #### 現在我們已經導入了需要的Python模組及初始化了pygame，並為顏色，畫面，球和球拍建立了全域變數，我們可以執行我們的第一個測試來檢查程式碼的結果並驗證它。 \n",
    "- #### 要測試遊戲，我們可以使用Python IDLE或Jupyter Notebook將下列程式碼輸入並開始執行測試。\n",
    "- #### 執行測試時，應該會彈出一個視窗然後關閉。 視窗不會保持打開狀態，因為我們沒有編寫任何執行遊戲的程式碼; 但是，如果程式碼執行且終端機/命令提示字元中沒有錯誤，那麼您可以放心地繼續進行。\n",
    "- #### 如果您的程式中存在錯誤，現在是修復它們的好時機。 可能發生的一些常見錯誤包括語法錯誤(使用錯誤的符號)，拼寫錯誤(拼寫錯誤的內容，如Python關鍵字)，或嘗試從錯誤的目錄執行程式。 如果您有錯誤，請檢查這些常見錯誤，並修復程式中的錯誤。\n",
    "- #### 如果您收到的錯誤不是上述常見錯誤之一，您可以隨時執行網路搜尋，詢問有關您遇到的問題。 即使是經驗豐富的開發人員也常常使用網路搜尋解決錯誤的方法。\n",
    "- #### 下列程式碼的最後一行pygame.quit()式關閉視窗的意思。"
   ]
  },
  {
   "cell_type": "code",
   "execution_count": null,
   "metadata": {},
   "outputs": [],
   "source": [
    "import pygame\n",
    "import random\n",
    "import time\n",
    "\n",
    "#初始化 pygame\n",
    "pygame.init()\n",
    "\n",
    "#顏色的全域變數\n",
    "red = (255, 0, 0)\n",
    "orange = (255, 127, 0)\n",
    "yellow = (255, 255, 0)\n",
    "green = (0, 255, 0)\n",
    "blue = (0, 0, 255)\n",
    "violet = (127, 0, 255)\n",
    "brown = (102, 51, 0)\n",
    "black = (0, 0, 0)\n",
    "white = (255, 255, 255)\n",
    "\n",
    "#畫面的全域變數\n",
    "screen_width = 600\n",
    "screen_height = 400\n",
    "game_screen = pygame.display.set_mode((screen_width, screen_height))\n",
    "pygame.display.set_caption(\"Tiny tennis\")\n",
    "font = pygame.font.SysFont(\"monospace\", 75)"
   ]
  },
  {
   "cell_type": "code",
   "execution_count": null,
   "metadata": {},
   "outputs": [],
   "source": [
    "#球的全域變數\n",
    "ball_x = int(screen_width / 2)\n",
    "ball_y = int(screen_height / 2)\n",
    "ball_xv = 3\n",
    "ball_yv = 3\n",
    "ball_r = 20\n",
    "\n",
    "#球拍 1\n",
    "paddle1_x = 10\n",
    "paddle1_y = 10\n",
    "paddle1_w = 25\n",
    "paddle1_h = 100\n",
    "\n",
    "#球拍 2\n",
    "paddle2_x = screen_width - 35\n",
    "paddle2_y = 10\n",
    "paddle2_w = 25\n",
    "paddle2_h = 100\n",
    "\n",
    "#初始化得分\n",
    "player1_score = 0\n",
    "player2_score = 0\n",
    "pygame.quit()"
   ]
  },
  {
   "cell_type": "markdown",
   "metadata": {},
   "source": [
    "[回本書目錄](#本書目錄)"
   ]
  },
  {
   "cell_type": "markdown",
   "metadata": {},
   "source": [
    "### 8.3 移動球拍\n",
    "- #### 我們現在開始編寫移動球拍的程式碼，目的是使我們的球拍顯示在畫面上，並可以控制球拍。\n",
    "- #### 我們將使用到我們在前面章節中學到的邏輯和迴圈的方法\n",
    "- #### 我們將逐步編寫，然後通過執行它來檢查程式碼是否存在任何錯誤。"
   ]
  },
  {
   "cell_type": "markdown",
   "metadata": {},
   "source": [
    "[回本書目錄](#本書目錄)"
   ]
  },
  {
   "cell_type": "markdown",
   "metadata": {},
   "source": [
    "### 8.3.1 建立迴圈前的工作\n",
    "#### 在我們實際建立while迴圈之前，我們將編寫兩個動作。 第一個動作是確保游標在超過遊戲畫面時要消失，以避免干擾遊戲的進行。 pygame中提供了這種行為的特殊功能: pygame.mouse.set_visible(0)。通過將游標的可見性設置為0，在遊戲中游標就看不見了。由於我們在遊戲進行中時並不需要游標，因此我們可以這樣做。第二個動作是定義while迴圈的控制變數並定義它為一個全域變數。 這個控制變數名稱為do_main，初始設置為do_main = True。請注意，True是一個需要用大寫字母T寫的布林值。現在，我們準備編寫while迴圈。"
   ]
  },
  {
   "cell_type": "raw",
   "metadata": {},
   "source": [
    "# 遊戲循環\n",
    "pygame.mouse.set_visible(0) # 讓游標不會出現在遊戲畫面中\n",
    "do_main = True\n",
    "while do_main:"
   ]
  },
  {
   "cell_type": "markdown",
   "metadata": {},
   "source": [
    "[回本書目錄](#本書目錄)"
   ]
  },
  {
   "cell_type": "markdown",
   "metadata": {},
   "source": [
    "### 8.3.2 以按鍵來移動球拍的事件處理\n",
    "- #### while迴圈中，首要的程式碼編寫是如何對玩家在按鍵動作上的處理。 當玩家按下一個鍵或一組鍵時，代表相對應的事件必須由程式碼來執行。判斷事件的類別可以使用if, else或elif來控制邏輯。請注意縮排的層級，縮排是Python中對程式碼的組織工具，可幫助我們追踪何時應執行哪些程式碼。\n",
    "- #### 取得玩家按鍵的內容，我們可以使用pygame.key.get_pressed()函數。 為縮短該函數的名稱，我們將它宣告為一個名為pressed的全域變數: pressed = pygame.key.get_pressed()\n",
    "- #### 當玩家按下某個鍵而尚未鬆手的這段時間，我們使用pygame.key.set_repeat()函數來告訴電腦該按鍵所要執行的動作要繼續，直到使用者放開該按鍵為止。 \n",
    "- #### 現在我們已經設置了按鍵事件的變數和特徵，我們將建立第一個迴圈，一個for迴圈，用於尋找要退出的玩家。 使用for迴圈來處理pygame.event.get()函數找到的每個事件。 如果事件是pygame.QUIT，則while迴圈將自動結束。 要進行此for迴圈，您將編寫以下程式碼。"
   ]
  },
  {
   "cell_type": "raw",
   "metadata": {},
   "source": [
    "    pressed = pygame.key.get_pressed()\n",
    "    pygame.key.set_repeat\n",
    "    for event in pygame.event.get():\n",
    "        if event.type == pygame.QUIT:\n",
    "            do_main = False"
   ]
  },
  {
   "cell_type": "markdown",
   "metadata": {},
   "source": [
    "- #### 現在我們已經告訴了電腦如何開始以及何時結束while迴圈。 現在，我們要告訴電腦在按下某些鍵時該做些甚麼。 對於我們這個迷你版網球遊戲，我們需要處理退出遊戲的鍵以及控制paddle1和paddle2的鍵。\n",
    "- #### 要退出遊戲，我們將使用pygame提供的Esc鍵代碼pygame.K_ESCAPE，並與我們的pressed變數共同使用，以用來判斷玩家是否按了要退出遊戲的鍵。我們的邏輯是當玩家如果按下Esc鍵，則do_main全域變數應設置為False。 當do_main設置為Boolean False時，while迴圈停止。編寫結束遊戲的程式碼如下:"
   ]
  },
  {
   "cell_type": "raw",
   "metadata": {},
   "source": [
    "    if pressed[pygame.K_ESCAPE]:\n",
    "        do_main = False"
   ]
  },
  {
   "cell_type": "markdown",
   "metadata": {},
   "source": [
    "- #### 為了控制球拍的上下移動，我們使用W鍵表示將球拍1往上移動，使用S鍵則表示將球拍1往下移動。球拍2也需要有往上或往下移動的按鍵控制。為了球拍1不可以與球拍2同時上下移動，我們必須為球拍2分配不同的鍵。我們使用向上箭頭K_UP鍵表示球拍2向上移動，K_DOWN鍵表示球拍2向下移動。"
   ]
  },
  {
   "cell_type": "markdown",
   "metadata": {},
   "source": [
    "    if pressed[pygame.K_w]:\n",
    "        paddle1_y -= 5\n",
    "    elif pressed[pygame.K_s]:\n",
    "        paddle1_y += 5\n",
    "    if pressed[pygame.K_UP]:\n",
    "        paddle2_y -= 5\n",
    "    elif pressed[pygame.K_DOWN]:\n",
    "        paddle2_y += 5"
   ]
  },
  {
   "cell_type": "markdown",
   "metadata": {},
   "source": [
    "- #### 程式碼中的-=和+=符號是用來表達增加或減少某些值的一種快捷方式。 在移動球拍的程式碼中，我們使用這些符號在按下鍵時增加或減去值。下列是 移動球拍的程式碼:"
   ]
  },
  {
   "cell_type": "code",
   "execution_count": null,
   "metadata": {},
   "outputs": [],
   "source": [
    "    pressed = pygame.key.get_pressed()\n",
    "    pygame.key.set_repeat\n",
    "    for event in pygame.event.get():\n",
    "        if event.type == pygame.QUIT:\n",
    "            do_main = False\n",
    "\n",
    "    if pressed[pygame.K_ESCAPE]:\n",
    "        do_main = False\n",
    "        \n",
    "    if pressed[pygame.K_w]:\n",
    "        paddle1_y -= 5\n",
    "    elif pressed[pygame.K_s]:\n",
    "        paddle1_y += 5\n",
    "    if pressed[pygame.K_UP]:\n",
    "        paddle2_y -= 5\n",
    "    elif pressed[pygame.K_DOWN]:\n",
    "        paddle2_y += 5"
   ]
  },
  {
   "cell_type": "markdown",
   "metadata": {},
   "source": [
    "[回本書目錄](#本書目錄)"
   ]
  },
  {
   "cell_type": "markdown",
   "metadata": {},
   "source": [
    "### 8.3.3 測試\n",
    "> #### 是時候再次測試我們的程式碼了。 在終端機/命令提示字元下，找到保存tiny.py文件的目錄。並從終端機/命令提示字元下執行以下命令以查看到目前為止的遊戲狀況：\n",
    "    - python tiny.py\n",
    "#### 在此測試期間，您將看到一個視窗打開，頂部顯示Tiny Tennis，而且會完全空白。 看這個截圖：\n",
    "<img src = \"./Images/tiny9.png\" width=300, height=100 >"
   ]
  },
  {
   "cell_type": "code",
   "execution_count": null,
   "metadata": {},
   "outputs": [],
   "source": [
    "import pygame\n",
    "import random\n",
    "import time\n",
    "\n",
    "#初始化 pygame\n",
    "pygame.init()\n",
    "\n",
    "#顏色的全域變數\n",
    "red = (255, 0, 0)\n",
    "orange = (255, 127, 0)\n",
    "yellow = (255, 255, 0)\n",
    "green = (0, 255, 0)\n",
    "blue = (0, 0, 255)\n",
    "violet = (127, 0, 255)\n",
    "brown = (102, 51, 0)\n",
    "black = (0, 0, 0)\n",
    "white = (255, 255, 255)\n",
    "\n",
    "#畫面的全域變數\n",
    "screen_width = 600\n",
    "screen_height = 400\n",
    "game_screen = pygame.display.set_mode((screen_width, screen_height))\n",
    "pygame.display.set_caption(\"Tiny tennis\")\n",
    "font = pygame.font.SysFont(\"monospace\", 75)\n",
    "\n",
    "#球的全域變數\n",
    "ball_x = int(screen_width / 2)\n",
    "ball_y = int(screen_height / 2)\n",
    "ball_xv = 3\n",
    "ball_yv = 3\n",
    "ball_r = 20\n",
    "\n",
    "#球拍 1\n",
    "paddle1_x = 10\n",
    "paddle1_y = 10\n",
    "paddle1_w = 25\n",
    "paddle1_h = 100\n",
    "\n",
    "#球拍 2\n",
    "paddle2_x = screen_width - 35\n",
    "paddle2_y = 10\n",
    "paddle2_w = 25\n",
    "paddle2_h = 100\n",
    "\n",
    "#初始化得分\n",
    "player1_score = 0\n",
    "player2_score = 0\n",
    "\n",
    "# 遊戲循環\n",
    "pygame.mouse.set_visible(0) # 讓游標不會出現在遊戲畫面中\n",
    "do_main = True\n",
    "while do_main:\n",
    "    pressed = pygame.key.get_pressed()\n",
    "    pygame.key.set_repeat\n",
    "    for event in pygame.event.get():\n",
    "        if event.type == pygame.QUIT:\n",
    "            do_main = False\n",
    "\n",
    "    if pressed[pygame.K_ESCAPE]:\n",
    "        do_main = False\n",
    "        \n",
    "    if pressed[pygame.K_w]:\n",
    "            paddle1_y -= 5\n",
    "    elif pressed[pygame.K_s]:\n",
    "            paddle1_y += 5\n",
    "    if pressed[pygame.K_UP]:\n",
    "            paddle2_y -= 5\n",
    "    elif pressed[pygame.K_DOWN]:\n",
    "            paddle2_y += 5"
   ]
  },
  {
   "cell_type": "markdown",
   "metadata": {},
   "source": [
    "[回本書目錄](#本書目錄)"
   ]
  },
  {
   "cell_type": "markdown",
   "metadata": {},
   "source": [
    "### 8.4 球的移動\n",
    "#### 現在我們已經編寫並測試了球拍的程式碼，我們需要編寫程式碼來移動球。 我們將使用一些程式碼來檢測當有抵觸或有碰撞的情況發生時，如何更改球的位置。"
   ]
  },
  {
   "cell_type": "markdown",
   "metadata": {},
   "source": [
    "[回本書目錄](#本書目錄)"
   ]
  },
  {
   "cell_type": "markdown",
   "metadata": {},
   "source": [
    "### 8.4.1 更新球的位置\n",
    "- #### 首先，我們需要根據我們在全域變數中設置的球的速度不斷計算球的x和y坐標。為了確保在球移動時球的x和y坐標更新，開始輸入以下程式碼："
   ]
  },
  {
   "cell_type": "raw",
   "metadata": {},
   "source": [
    "# location of ball is updated\n",
    "ball_x += ball_xv\n",
    "ball_y += ball_yv"
   ]
  },
  {
   "cell_type": "markdown",
   "metadata": {},
   "source": [
    "[回本書目錄](#本書目錄)"
   ]
  },
  {
   "cell_type": "markdown",
   "metadata": {},
   "source": [
    "### 8.4.2  抵觸與碰撞的檢測\n",
    "- #### 我們的下一個工作是編寫一個叫碰撞檢測的程式碼，當物體發生碰撞時，我們將告訴電腦我們希望它做什麼。在本迷你版網球遊戲中，我們要檢測三種抵觸或碰撞的情境：(1) 球與畫面頂部和底部的抵觸，(2) 球拍與畫面頂部和底部的抵觸，(3)球與球拍的碰撞"
   ]
  },
  {
   "cell_type": "markdown",
   "metadata": {},
   "source": [
    "#### 球與畫面頂部和底部的抵觸\n",
    "- #### 我們將使用if語句來定義如果球擊中畫面的頂部或底部會發生什麼。 基本上，如果球擊中畫面的頂部或底部，我們希望球反彈回來。\n",
    "- #### 基本上當y坐標減去半徑並且小於或等於零時，表示球與畫面的頂部是相抵觸的。或者如果y坐標加上半徑大於畫面的高度時，表示球與畫面底部是相抵觸的。這時我們將球的y坐標的速度定義為反向，也就是反轉球的方向。"
   ]
  },
  {
   "cell_type": "raw",
   "metadata": {},
   "source": [
    "# ollision of ball with top/bottom of screen (球與畫面頂部和底部的抵觸)\n",
    "if ball_y - ball_r <= 0 or ball_y + ball_r >= screen_height:\n",
    "    ball_yv *= -1"
   ]
  },
  {
   "cell_type": "markdown",
   "metadata": {},
   "source": [
    "#### 球拍與畫面頂部和底部的抵觸\n",
    "- #### 我們希望球拍在到達畫面的頂部或底部時停止。為了實現這一點，我們需要編寫程式碼來識別球拍的y值，然後停止球拍移動超出建立畫面邊框的兩個y值。 這兩個值在畫面頂部為0，底部為400。 將以下程式碼複製到程式中。檢查以確保縮排層級正確："
   ]
  },
  {
   "cell_type": "raw",
   "metadata": {},
   "source": [
    "# collision of paddle with top/bottom of screen (球拍與畫面邊緣的抵觸)\n",
    "if paddle1_y < 0:\n",
    "    paddle1_y = 0\n",
    "elif paddle1_y + paddle1_h > screen_height:\n",
    "    paddle1_y = screen_height - paddle1_h    \n",
    "if paddle2_y < 0:\n",
    "    paddle2_y = 0\n",
    "elif paddle2_y + paddle2_h > screen_height:\n",
    "    paddle2_y = screen_height - paddle2_h"
   ]
  },
  {
   "cell_type": "markdown",
   "metadata": {},
   "source": [
    "- #### 這段程式碼的工作方式與球的程式碼不同，因為我們不希望球拍反彈！ 相反，我們希望球拍在它們到達畫面的頂部或底部時停止。 因此，您會注意到，只要paddle1或paddle2超出畫面的邊界點(0和400)，paddle1或paddle2的值就會重置為等於邊界值0或400，具體取決於障礙物所在的位置(它是在畫面的頂部還是在底部？)。"
   ]
  },
  {
   "cell_type": "markdown",
   "metadata": {},
   "source": [
    "#### 球與球拍的碰撞\n",
    "- #### 球與球拍的碰撞將決定當球撞擊球拍時會發生什麼。 有兩個球拍，如果您使用井號標籤新增一些註解程式碼來標記左側球拍(paddle1)和右側球拍(paddle2)的程式碼，這將會很有幫助。\n",
    "- #### 當球擊中球拍時，我們希望球看起來好像已從球拍上彈開。 因此，我們需要確保球和球拍之間碰撞的結果是球自身反轉並向相反方向移動。 這實際上與我們用來使球從畫面邊緣反彈的行為相同，除了現在我們需要勾勒出paddle1和paddle2的所有部分。將這些程式碼複製到您的程式中："
   ]
  },
  {
   "cell_type": "raw",
   "metadata": {},
   "source": [
    "# left paddle\n",
    "    if ball_x < paddle1_x + paddle1_w and ball_y >= paddle1_y and ball_y <= paddle1_y + paddle1_h:\n",
    "    ball_xv *= -1\n",
    "#right paddle\n",
    "    if ball_x > paddle2_x and ball_y >= paddle2_y and ball_y <= paddle2_y + paddle2_h:\n",
    "        ball_xv *= -1"
   ]
  },
  {
   "cell_type": "markdown",
   "metadata": {},
   "source": [
    "[回本書目錄](#本書目錄)"
   ]
  },
  {
   "cell_type": "markdown",
   "metadata": {},
   "source": [
    "### 8.4.3 測試\n",
    "- #### 你已經差不多完成遊戲撰寫！ 現在是時候再次測試我們的程式碼了。 在終端機/命令提示字元下，找到儲存tiny.py文件的目錄。 您可以從終端機/命令提示字元執行以下命令來檢查到目前為止的遊戲進度：python tiny.py\n",
    "- #### 在此測試期間，如果一切正常，您的結果將與第2節中的測試相同。將打開一個空白畫面，稱為Tiny Tennis。恭喜！\n",
    "- #### 如果您的程式在執行時出現一些錯誤，請查看錯誤消息以檢查是否可以找出問題所在。 查找程式碼中的語法錯誤，拼寫錯誤，縮排錯誤或任何其他錯誤。"
   ]
  },
  {
   "cell_type": "raw",
   "metadata": {},
   "source": [
    "#球的位置更新\n",
    "ball_x += ball_xv\n",
    "ball_y += ball_yv\n",
    "\n",
    "#球與畫面頂部/底部的抵觸\n",
    "if ball_y - ball_r <= 0 or ball_y + ball_r >= screen_height:\n",
    "    ball_yv *= -1\n",
    "\n",
    "#球拍與畫面邊緣的抵觸\n",
    "if paddle1_y < 0:\n",
    "    paddle1_y = 0\n",
    "elif paddle1_y + paddle1_h > screen_height:\n",
    "    paddle1_y = screen_height - paddle1_h\n",
    "    \n",
    "if paddle2_y < 0:\n",
    "    paddle2_y = 0\n",
    "elif paddle2_y + paddle2_h > screen_height:\n",
    "    paddle2_y = screen_height - paddle2_h\n",
    "\n",
    "#球和球拍的碰撞\n",
    "#左邊球拍\n",
    "if ball_x < paddle1_x + paddle1_w and ball_y >= paddle1_y and ball_y <= paddle1_y + paddle1_h:\n",
    "    ball_xv *= -1\n",
    "#右邊球拍\n",
    "if ball_x > paddle2_x and ball_y >= paddle2_y and ball_y <= paddle2_y + paddle2_h:\n",
    "    ball_xv *= -1"
   ]
  },
  {
   "cell_type": "markdown",
   "metadata": {},
   "source": [
    "[回本書目錄](#本書目錄)"
   ]
  },
  {
   "cell_type": "markdown",
   "metadata": {},
   "source": [
    "### 8.5 繪製畫面及更新分數\n",
    "- #### 我們已經處理了當球或球拍與畫面牴觸時，或球與球拍撞擊時應該的反應與作為。 但是，如果玩家的球拍為能撞擊到球時，球應該會落在哪個位置？同時玩家他們的分數是怎樣計算的？我們使用x坐標的位置來確定球「是在畫面上」還是「已經越過球拍並且在畫面之外」。 我們也使用if語句告訴電腦該做什麼。 x軸坐標0是畫面的最左側。 如果玩家1的球其x值小於等於0，則另一方的玩家得分，因為球拍1未能阻擋球。同樣情況是，如果玩家2的球其x值大於等於螢幕的寬度，則另一方的玩家得分。一旦有任何玩家得分，遊戲必須重新開始，ball_x和ball_y坐標將重置於畫面的中心。"
   ]
  },
  {
   "cell_type": "raw",
   "metadata": {},
   "source": [
    "# 玩家的分數計算\n",
    "if ball_x <= 0:\n",
    "    player2_score += 1\n",
    "    ball_x = int(screen_width / 2)\n",
    "    ball_y = int(screen_height / 2)\n",
    "elif ball_x >= screen_width:\n",
    "    player1_score += 1\n",
    "    ball_x = int(screen_width / 2)\n",
    "    ball_y = int(screen_height / 2)"
   ]
  },
  {
   "cell_type": "markdown",
   "metadata": {},
   "source": [
    "[回本書目錄](#本書目錄)"
   ]
  },
  {
   "cell_type": "markdown",
   "metadata": {},
   "source": [
    "### 8.5.1 畫面的連續呈現\n",
    "- #### 最後，我們需要編寫重繪畫面和所有物件位置的程式碼來展現遊戲中球與球拍的移動。我們首先編寫了game_screen.fill(black)其目的是使我們的畫面變黑。我們用paddle_1 = pygame.draw.rect(game_screen, white, (paddle1_x, paddle1_y,　paddle1_w, paddle1_h), 0)及paddle_2 = pygame.draw.rect(game_screen, white, (paddle2_x, paddle2_y,　paddle2_w, paddle2_h), 0)繪製球拍兩個球拍。pygame.draw.rect的括號內有四組參數, 分別是(1)螢幕名稱;(2)球拍顏色;(3)球拍的(x軸的位置,y軸的位置,長度,寬度);(4)球拍邊緣線的粗細。我們定義ball = pygame.draw.circle(game_screen, red, (ball_x, ball_y), ball_r,　0)來繪製球。pygame.draw.circle的括號內有五組參數, 分別是(1)螢幕名稱;(2)球的顏色;(3)球的(x軸的位置,y軸的位置);(4)球的半徑;(5)球邊緣線的粗細"
   ]
  },
  {
   "cell_type": "markdown",
   "metadata": {},
   "source": [
    "[回本書目錄](#本書目錄)"
   ]
  },
  {
   "cell_type": "raw",
   "metadata": {},
   "source": [
    "game_screen.fill(black)\n",
    "paddle_1 = pygame.draw.rect(game_screen, white, (paddle1_x, paddle1_y,　paddle1_w, paddle1_h), 0)\n",
    "paddle_2 = pygame.draw.rect(game_screen, white, (paddle2_x, paddle2_y,　paddle2_w, paddle2_h), 0)\n",
    "net = pygame.draw.line(game_screen, yellow, (300,5), (300,400))\n",
    "ball = pygame.draw.circle(game_screen, red, (ball_x, ball_y), ball_r,　0)"
   ]
  },
  {
   "cell_type": "markdown",
   "metadata": {},
   "source": [
    "### 8.5.2 顯示玩家的得分\n",
    "- #### 我們接下來的幾行程式碼將在畫面上繪製玩家的分數。我們的遊戲得分程式碼的第一行提供了score_text變數的定義，該變數在我們剛剛新增的此程式碼的第二行中使用。game_screen.blit()函數在每次重繪畫面時都會更新得分的分數，如果沒有球員錯過球，得分的分數是不會改變的。我們使用pygame.display.update()函數來更新圖像。 因為電腦的執行速度比人更快，所以我們也新增了一個睡眠選項time.sleep(0.016666667)來定義執行更新的間隔。"
   ]
  },
  {
   "cell_type": "raw",
   "metadata": {},
   "source": [
    "score_text = font.render(str(player1_score) + \" \" + str(player2_score), 1, white)\n",
    "game_screen.blit(score_text, (screen_width / 2 - score_text.get_width() / 2, 10))"
   ]
  },
  {
   "cell_type": "markdown",
   "metadata": {},
   "source": [
    "[回本書目錄](#本書目錄)"
   ]
  },
  {
   "cell_type": "markdown",
   "metadata": {},
   "source": [
    "### 8.6 結束程式\n",
    "- #### 最後一行程式碼pygame.quit()是用來結束pygame。pygame.quit()其實在while迴圈之外，因此只有在while迴圈停止執行時才會發生"
   ]
  },
  {
   "cell_type": "code",
   "execution_count": 2,
   "metadata": {},
   "outputs": [],
   "source": [
    "import pygame\n",
    "# import random\n",
    "import time\n",
    "\n",
    "#初始化 pygame\n",
    "pygame.init()\n",
    "\n",
    "#顏色的全域變數\n",
    "red = (255, 0, 0)\n",
    "orange = (255, 127, 0)\n",
    "yellow = (255, 255, 0)\n",
    "green = (0, 255, 0)\n",
    "blue = (0, 0, 255)\n",
    "violet = (127, 0, 255)\n",
    "brown = (102, 51, 0)\n",
    "black = (0, 0, 0)\n",
    "white = (255, 255, 255)\n",
    "\n",
    "#畫面的全域變數\n",
    "screen_width = 600\n",
    "screen_height = 400\n",
    "game_screen = pygame.display.set_mode((screen_width, screen_height))\n",
    "pygame.display.set_caption(\"Tiny tennis\")\n",
    "font = pygame.font.SysFont(\"monospace\", 75)\n",
    "\n",
    "#球的全域變數\n",
    "ball_x = int(screen_width / 2)\n",
    "ball_y = int(screen_height / 2)\n",
    "ball_xv = 3\n",
    "ball_yv = 3\n",
    "ball_r = 20\n",
    "\n",
    "#球拍 1\n",
    "paddle1_x = 10\n",
    "paddle1_y = 10\n",
    "paddle1_w = 25\n",
    "paddle1_h = 100\n",
    "\n",
    "#球拍 2\n",
    "paddle2_x = screen_width - 35\n",
    "paddle2_y = 10\n",
    "paddle2_w = 25\n",
    "paddle2_h = 100\n",
    "\n",
    "#初始化得分\n",
    "player1_score = 0\n",
    "player2_score = 0\n",
    "\n",
    "# 遊戲循環\n",
    "pygame.mouse.set_visible(0) # 讓游標不會出現在遊戲畫面中\n",
    "do_main = True\n",
    "while do_main:\n",
    "    pressed = pygame.key.get_pressed()\n",
    "    pygame.key.set_repeat\n",
    "    for event in pygame.event.get():\n",
    "        if event.type == pygame.QUIT:\n",
    "            do_main = False\n",
    "\n",
    "    if pressed[pygame.K_ESCAPE]:\n",
    "        do_main = False\n",
    "        \n",
    "    if pressed[pygame.K_w]:\n",
    "            paddle1_y -= 5\n",
    "    elif pressed[pygame.K_s]:\n",
    "            paddle1_y += 5\n",
    "    if pressed[pygame.K_UP]:\n",
    "            paddle2_y -= 5\n",
    "    elif pressed[pygame.K_DOWN]:\n",
    "            paddle2_y += 5\n",
    "    #球的位置更新\n",
    "    ball_x += ball_xv\n",
    "    ball_y += ball_yv\n",
    "\n",
    "    #球與畫面頂部/底部的抵觸\n",
    "    if ball_y - ball_r <= 0 or ball_y + ball_r >= screen_height:\n",
    "        ball_yv *= -1\n",
    "\n",
    "    #球拍與畫面邊緣的抵觸\n",
    "    if paddle1_y < 0:\n",
    "        paddle1_y = 0\n",
    "    elif paddle1_y + paddle1_h > screen_height:\n",
    "        paddle1_y = screen_height - paddle1_h\n",
    "    \n",
    "    if paddle2_y < 0:\n",
    "        paddle2_y = 0\n",
    "    elif paddle2_y + paddle2_h > screen_height:\n",
    "        paddle2_y = screen_height - paddle2_h\n",
    "\n",
    "    #球和球拍的碰撞\n",
    "    #左邊球拍\n",
    "    if ball_x < paddle1_x + paddle1_w and ball_y >= paddle1_y and ball_y <= paddle1_y + paddle1_h:\n",
    "        ball_xv *= -1\n",
    "    #右邊球拍\n",
    "    if ball_x > paddle2_x and ball_y >= paddle2_y and ball_y <= paddle2_y + paddle2_h:\n",
    "        ball_xv *= -1\n",
    "    \n",
    "    # 玩家的分數計算\n",
    "    if ball_x <= 0:\n",
    "        player2_score += 1\n",
    "        ball_x = int(screen_width / 2)\n",
    "        ball_y = int(screen_height / 2)\n",
    "    elif ball_x >= screen_width:\n",
    "        player1_score += 1\n",
    "        ball_x = int(screen_width / 2)\n",
    "        ball_y = int(screen_height / 2)\n",
    "\n",
    "    game_screen.fill(black)\n",
    "    paddle_1 = pygame.draw.rect(game_screen, white, (paddle1_x, paddle1_y, paddle1_w, paddle1_h), 0)\n",
    "    paddle_2 = pygame.draw.rect(game_screen, white, (paddle2_x, paddle2_y, paddle2_w, paddle2_h), 0)\n",
    "    net = pygame.draw.line(game_screen, yellow, (300,5), (300,400))\n",
    "    ball = pygame.draw.circle(game_screen, red, (ball_x, ball_y), ball_r)\n",
    "\n",
    "    score_text = font.render(str(player1_score) + \" \" + str(player2_score), 1, white)\n",
    "    game_screen.blit(score_text, (screen_width / 2 - score_text.get_width() / 2, 10))\n",
    "\n",
    "    pygame.display.update()\n",
    "\n",
    "    time.sleep(0.016666667)\n",
    "    \n",
    "pygame.quit()\n",
    "# 遊戲結束"
   ]
  },
  {
   "cell_type": "markdown",
   "metadata": {},
   "source": [
    "[回本書目錄](#本書目錄)"
   ]
  },
  {
   "cell_type": "markdown",
   "metadata": {},
   "source": [
    "### 8.7 玩 Tiny Tennis\n",
    "> #### 關於Tiny Tennis的最好的部分是你可以與自己對打，讓你可以輕鬆地測試遊戲並試驗遊戲的不同部分。 現在，當您從終端機執行該文件時，會彈出一個如下所示的視窗：\n",
    "<img src = \"./Images/tiny13.png\" width=600, height=800></img>\n",
    "> #### 球應立即開始向畫面的一側或另一側移動。 您可以通過確保畫面兩側的球拍能夠擊中球並且不會超出畫面空間來測試遊戲。 您可以測試評分機制，以確保適當的玩家獲得他們通過其他玩家所經歷的每個鏡頭的積分。 然後，您可以邀請其他人與您一起玩遊戲。\n",
    "> #### 如果您對遊戲的某些部分不滿意，可以修改它們。 例如，您可以為球，球拍和畫面選擇不同的顏色。 也許你想讓球拍更長或更短，或者更薄。 也許你想通過改變半徑來使球變大或變小。\n",
    "> #### 您可能決定要讓球和球拍移動得更快，以便遊戲更具挑戰性，或者如果您設計的遊戲要由年幼的孩子玩，您可能希望球和球拍動得更慢。 設計選擇有很多原因，現在你有一個可玩的遊戲，你可能決定做出一些不同的設計決定。\n",
    "> #### 您可以通過複製遊戲程式碼然後測試副本中的任何修改來測試您的決定。保留完整程式碼的備份是個好主意，這樣如果你編寫損壞了程式碼，你就有了返回並重新開始的地方。"
   ]
  },
  {
   "cell_type": "markdown",
   "metadata": {},
   "source": [
    "[回本書目錄](#本書目錄)"
   ]
  },
  {
   "cell_type": "markdown",
   "metadata": {},
   "source": [
    "### 8.8 總結\n",
    "> #### 恭喜您建立第一款遊戲！ 你學會了很多東西。 但是，關於程式碼的最大優點是，有很多方法可以做任何事情。 有些方法更容易理解，但不如其他方式有效。 有些程式碼非常有效，但另一個程式設計師可能不太容易理解。 最好的程式碼既易於理解，也能以最有效的方式編寫。\n",
    "> #### 在前一章中，我們使用了易於理解的程式碼組合，但可能沒有盡可能高效。這是因為我們在pygame中學習了許多新原理，而諸如碰撞檢測之類的東西可能會對程式碼產生挑戰。在你有幾場比賽之後，你可能決定以不同的方式做事！\n",
    "> #### 在下一章中，我們將回顧本書中學到的所有知識，並且我們還將介紹Python在世界上使用的其他方法，因為Python是一種非常有用的語言。 在最後一章見！"
   ]
  },
  {
   "cell_type": "markdown",
   "metadata": {},
   "source": [
    "[回本書目錄](#本書目錄)"
   ]
  },
  {
   "cell_type": "markdown",
   "metadata": {},
   "source": [
    "## 9. 持續編寫程式\n",
    "> ### 在上一章中，我們以圖形方式建構了一個完整的雙人遊戲環境使用pygame。在本書的最後一章中，我們將回顧你從中所學習到的知識，進而嘗試使用新的技巧去探索一些更深層的想法。或許這些想法及嘗試，會讓你學習到可以廣泛運用在整個python的技巧。"
   ]
  },
  {
   "cell_type": "markdown",
   "metadata": {},
   "source": [
    "[回本書目錄](#本書目錄)"
   ]
  },
  {
   "cell_type": "markdown",
   "metadata": {},
   "source": [
    "### 9.1 我們學到了什麼，接下來的步驟該做什麼\n",
    "> #### 在本書的開頭，您開始了解您的電腦。您學習如何安裝Python並使用不同的免費工具（如文件編輯器，Python shell和終端機/命令提示字元）來執行遊戲。此外，您還學習如何尋找到桌面目錄並保存檔案，以便您可以完成每個項目。接下來的步驟包括：\n",
    "    - 尋找到電腦上的其他文件夾和目錄\n",
    "    - 了解更多終端機/命令提示字元命令\n",
    "> #### 然後，我們通過製作函數和變數以及使用不同的數據類型開始編寫過程。我們建立了一些數學函數，然後我們將這些函數放在一起建立一個計算機。您通過使用input()命令向他們提示，了解該如何從某人那裡獲取數據。\n",
    "> #### 我們使用諸如if和else之類的條件式來教導電腦如何根據使用者決定做出的決定。我們還使用迴圈來幫助我們在遊戲中執行不同的工作。此後的步驟包括:\n",
    "    - 尋找並嘗試理解嵌入的if語句\n",
    "    - 使用迴圈處理大型文本或數據集\n",
    "> #### 您了解了在Python中使用和儲存數據的不同方法，例如字典和列表。知道如何在Python中儲存內容是有幫助的，並且Python的最快功能之一是它能夠非常快速地儲存和檢索數據。在整個第1章，歡迎！讓我們開始吧，第9章，Tiny Tennis，我們建立了幾個項目來展示你如何使用你學到的技能。了解如何使用Python的強大功能來解決問題非常重要。了解每個工具意味著您可以更好地想像如何使用您的編寫技能解決問題。在本章的其餘部分，讓我們來看看我們可以解決的一些問題，這些問題將擴展我們的Python技能。"
   ]
  },
  {
   "cell_type": "markdown",
   "metadata": {},
   "source": [
    "### 類別和物件 - 非常重要的下一步！\n",
    "> #### 您需要立即開始學習類別和物件。這些是簡化本來會重複程式碼的好方法。例如，pygame中有一個名為Sprites的類別。 pygame.Sprites模組具有可以更輕鬆地管理不同遊戲物件的類別。\n",
    "> #### 要了解有關類別和物件的更多資訊，最好在網路上搜尋物件導向程式設計（這是Python使用的那種程式設計），更具體地說是類別和物件。如果您發現課程和內容令人困惑，請不要擔心。這是一個需要習慣的概念。"
   ]
  },
  {
   "cell_type": "markdown",
   "metadata": {},
   "source": [
    "### 讓你的遊戲更有趣\n",
    "> #### 由於本書的重點是製作遊戲項目，因此我們將在您更詳細地探詢pygame後，查看一些更複雜的遊戲內容。你可以從這些方式開始使Tiny Tennis變得更加複雜：\n",
    "    - 添加音樂文件\n",
    "    - 添加圖形\n",
    "\n",
    "### 為遊戲添加音樂\n",
    "> #### pygame允許您為遊戲添加音樂。有一個音樂模組，允許您以幾種格式新增音樂到您的遊戲程式。但有一些限制，包括文件類型。\n",
    "例如，使用通用支持的.ogg文件類型比使用.mp3等文件類型更好，這些文件類型並非在所有操作系統上本機支持。\n",
    "\n",
    "### 在遊戲中新增圖形\n",
    "> #### 在學習如何製作一些基本形狀的同時，如果它只有基本顏色的矩形，圓形和正方形，那麼我們的世界將會非常無聊。通過試驗pygame.image（）等模組，您可以學習如何處理在pygame之外建立的圖像。如果您有藝術兄弟或朋友，或者您自己是藝術家，則可以在電腦中建立或掃描藝術作品，然後將其新增到遊戲中。\n",
    "\n",
    "### 重新製作或設計遊戲\n",
    "> #### 如果您想要一個全新的挑戰，您可以嘗試自己重建經典遊戲。有許多經典遊戲，如PacMan，Asteroids或薩爾達傳說。嘗試使用你的技能重新製作這些遊戲是一個很好的挑戰。這種練習需要你做一些重要的事情：\n",
    "    - 提前計劃您的計劃\n",
    "    - 弄清楚您是否需要在您的計劃中額外上課進行學習\n",
    "    - 弄清楚如何在程式中使用物件\n",
    "    - 管理程式中的迴圈\n",
    "    - 管理程式中的if / else條件\n",
    "    - 管理程式中的使用者資訊，例如名稱和分數\n",
    "\n",
    "> #### 一旦你製作了一些基於經典遊戲的遊戲，你可能會對自己的遊戲有一些想法。如果您有想法，請在電腦上的文件中記下它們。當您考慮新遊戲時，您需要做與重建經典遊戲相同的事情，除了您需要做出關於遊戲目的、遊戲勝利條件和控制相關的條件等。"
   ]
  },
  {
   "cell_type": "markdown",
   "metadata": {},
   "source": [
    "[回本書目錄](#本書目錄)"
   ]
  },
  {
   "cell_type": "markdown",
   "metadata": {},
   "source": [
    "### 9.2 其他遊戲\n",
    "> #### 許多程式設計師用Python製作小遊戲來練習他們的編寫技巧。首先，您可以查看人們在pygame網站上製作並發布的其他一些遊戲。到http://pygame.org/tags/pygame ，看看其他人做出的遊戲範本吧。\n",
    "\n",
    "### PB-球\n",
    "> #### PB-Ball是一款使用pygame並新增類別物件的籃球遊戲。確定到項目頁面時，您將看到一些指向程式碼的不同連結。以下連結將幫助您找到遊戲並查看程式碼。當您查看文件時，您會注意到有圖像和聲音的文件夾。因此，要建立一個具有更複雜背景的遊戲，需要學習許多新技能。下列是遊戲相關的連結，以便您可以查看程式碼並了解它：\n",
    "    - 這是PB-Ball遊戲的連結：http://www.pygame.org/project-PB-Ball-2963-.html"
   ]
  },
  {
   "cell_type": "markdown",
   "metadata": {},
   "source": [
    "[回本書目錄](#本書目錄)"
   ]
  },
  {
   "cell_type": "markdown",
   "metadata": {},
   "source": [
    "### 9.3 Python的其他用途\n",
    "> #### Python在製作遊戲之外有很多用途。 學習Python可以為數據科學、Web應用程式開發或軟體測試等職業打開大門。 如果你真的想從事程式設計，那麼尋找一些你可以用Python做的事情是個好主意。\n",
    "    - 想知道如何在現實世界中使用Python？ 了解Python在許多不同領域的使用方式！ 請至https://www.python.org/about/success/ 了解更多詳情。\n",
    "\n",
    "### MatPlotLib\n",
    "> #### MatPlotLib是一個高級工具，可以使用Python進行編寫以建立簡單的工具或複雜的圖表，圖形，長條圖，甚至動畫。\n",
    "> #### 它是一個開源項目，因此也可以免費使用。有些時候可以使用此工具，尤其是對2D資料的視覺化特別有用。\n",
    "\n",
    "### Raspberry Pi(樹莓派)\n",
    "> #### 流行的樹莓派是一款專為實驗而設計的小型電腦板計算機器人。它的操作系統與Windows和Mac不同，預裝了Python和pygame，所以這是開始遊戲的一種非常方便的方式，因為你不必完成我們在第一章中所做的所有工作。\n",
    "> #### 要使用樹莓派，則需要電源，具有HDMI輸入的螢幕，HDMI線，鍵盤和滑鼠以及Wi-Fi無線網路或有線以太網路。此外，您將需要一張SD卡來安裝最新的樹莓派作業系統。使用這些項目，您可以使用樹莓派作為主要電腦和實驗，因為您知道如果您的電腦崩潰，您可以免費製作另一份作業系統副本！\n",
    "> #### 許多人使用樹莓派製作遊戲甚至小型掌上游戲系統！除了製作遊戲外，人們還使用樹莓派製作機器人項目和媒體中心項目。關於樹莓派非常簡潔的一點是，您可以了解有關建構電腦的更多資訊，並且可以嘗試為不同用途製作電腦。您可以使用Python和樹莓派編寫燈光控制開關，大門警報器甚至家用電器的程式碼！您可以訪問Raspberry Pi官方網站，了解有關其硬體及其基於Linux的作業系統的更多資訊。"
   ]
  },
  {
   "cell_type": "markdown",
   "metadata": {},
   "source": [
    "[回本書目錄](#本書目錄)"
   ]
  },
  {
   "cell_type": "markdown",
   "metadata": {},
   "source": [
    "### 9.4 總結"
   ]
  },
  {
   "cell_type": "markdown",
   "metadata": {},
   "source": [
    "#### 希望本書為您提供基本的Python程式概念。但並不會讓您成為專業的程式設計師，因為Python是一種強大的語言，可是比一本書中提供的資訊多更多。但是，如果您完成了每個遊戲，那麼您會有一個可靠的Python基礎來建構您的後續步驟。\n",
    "#### Python不使用於傳統的遊戲系統，但是遊戲設計概念在Python中很適用，你可以更輕鬆地學習其它常見的遊戲設計語言，比如C ++。\n",
    "#### 另一種使用Python來學習更多關於數學數據的方法。這是一個非常好的方法來進一步探索Python，建立一個工作小組到各個學校展示，網路擁有大量關於各種主題的數據集，包括人口和天氣等。\n",
    "#### 最後，你可能決定要學習Python。如果你看一下像GitsHub或Bitbucket這樣的程式員保留他們的程式碼並且有時允許它免費提供閱讀其他程式設計師的程式碼是學習新的和有趣的開發免費程式的一種很棒的方式，也稱為開源，是幫助社群編寫更好的方法。你可以提出很多問題並得到答案。\n",
    "#### 在您尋求更好的遊戲和更好的程式碼的過程中一切順利。繼續學習！"
   ]
  },
  {
   "cell_type": "markdown",
   "metadata": {},
   "source": [
    "[回本書目錄](#本書目錄)"
   ]
  },
  {
   "cell_type": "markdown",
   "metadata": {},
   "source": [
    "## Reference Book "
   ]
  },
  {
   "cell_type": "markdown",
   "metadata": {},
   "source": [
    "### 2017 Coding Projects in Python\n",
    "> ### Perfect for kids ages 10 and over who are ready to take a second step after Scratch, Coding Projects in Python teaches kids how to build amazing graphics, fun games, and useful apps. All they need is a desktop or laptop, and an Internet connection to download Python 3."
   ]
  },
  {
   "cell_type": "markdown",
   "metadata": {},
   "source": [
    "### 2016 Python Projects for Kids\n",
    "> ### This book is for kids who are ready to move from graphically-based programming environments, such as Scratch, and into text-based environments. Kids who are ready to create their own projects will engage with this book, especially those who have played games. No prior programming experience is needed to complete the projects in this book; this book is for kids aged 10 years and above, who are ready to learn about Python programming.\n"
   ]
  },
  {
   "cell_type": "markdown",
   "metadata": {},
   "source": [
    "### 2015 Python Playground\n",
    "> ### This book is not intended to be your first book on Python. I won’t walk you through the basics. I will, however, show you how to use Python to solve a variety of real-world problems in a series of nontrivial projects. As you work through the projects, you’ll explore the nuances of the Python programming language and learn how to work with some popular Python libraries. But perhaps even more importantly, you’ll learn how to break down a problem into parts, develop an algorithm to solve that problem, and then implement a solution from the ground up using Python. It can be difficult to solve real-world problems because they are often open-ended and require expertise in various domains. But Python offers the tools to facilitate problemsolving. Overcoming difficulties and finding solutions to real problems is the most important part of your journey on the way to becoming an expert programmer.\n"
   ]
  },
  {
   "cell_type": "markdown",
   "metadata": {},
   "source": [
    "### 2015 Teach Your Kids to Code\n",
    "> ### This book isn’t just for kids—it’s for parents, teachers, students, and adults who want to understand the basics of computer programming, both to have fun and to gain access to new jobs in the high-tech economy. No matter what your age, you can have a great time learning the basics of programming. The best way to do this is to experiment and work together. "
   ]
  },
  {
   "cell_type": "markdown",
   "metadata": {},
   "source": [
    "### 2017 Begin to Code with Python\n",
    "> ### This full-color book will inspire you to start solving problems and creating programs with Python, even if you have absolutely no programming experience. It’s not just friendly and easy: it’s the first Python beginner’s guide that puts you in control of your own learning, and empowers you to build unique programs to solve problems you care about."
   ]
  },
  {
   "cell_type": "markdown",
   "metadata": {},
   "source": [
    "### 2015 Python Crash Course\n",
    "> ### The goal of this book is to bring you up to speed with Python as quickly as possible so you can build programs that work—games, data visualizations, and web applications—while developing a foundation in programming that will serve you well for the rest of your life. Python Crash Course is written for people of any age who have never programmed in Python before or have never programmed at all. If you want to learn the basics of programming quickly so you can focus on interesting projects, and you like to test your understanding of new concepts by solving meaningful problems, this book is for you. Python Crash Course is also perfect for middle school and high school teachers who want to offer their students a project-based introduction to programming."
   ]
  },
  {
   "cell_type": "markdown",
   "metadata": {},
   "source": [
    "### 2018 Python in easy steps, 2nd Edition"
   ]
  },
  {
   "cell_type": "markdown",
   "metadata": {},
   "source": [
    "### 1 Getting started\n",
    "    - #### Introducing Python\n",
    "    - #### Installing Python on Windows\n",
    "    - #### Installing Python on Linux\n",
    "    - #### Meeting the interpreter\n",
    "    - #### Writing your first program\n",
    "    - #### Employing variables\n",
    "    - #### Obtaining user input\n",
    "    - #### Correcting errors\n",
    "    - #### Summary\n",
    "### 2 Performing operations\n",
    "    - #### Doing arithmetic\n",
    "    - #### Assigning values\n",
    "    - #### Comparing values\n",
    "    - #### Assessing logic\n",
    "    - #### Examining conditions\n",
    "    - #### Setting precedence\n",
    "    - #### Casting data types\n",
    "    - #### Manipulating bits\n",
    "    - #### Summary\n",
    "### 3 Making statements\n",
    "    - #### Writing lists\n",
    "    - #### Manipulating lists\n",
    "    - #### Restricting lists\n",
    "    - #### Associating list elements\n",
    "    - #### Branching with if\n",
    "    - #### Looping while true\n",
    "    - #### Looping over items\n",
    "    - #### Breaking out of loops\n",
    "    - #### Summary\n",
    "### 4 Defining functions\n",
    "    - #### Understanding scope\n",
    "    - #### Supplying arguments\n",
    "    - #### Returning values\n",
    "    - #### Using callbacks\n",
    "    - #### Adding placeholders\n",
    "    - #### Producing generators\n",
    "    - #### Handling exceptions\n",
    "    - #### Debugging assertions\n",
    "    - #### Summar\n",
    "### 5 Importing modules\n",
    "    - #### Storing functions\n",
    "    - #### Owning function names\n",
    "    - #### Interrogating the system\n",
    "    - #### Performing mathematics\n",
    "    - #### Calculating decimals\n",
    "    - #### Telling the time\n",
    "    - #### Running a timer\n",
    "    - #### Matching patterns\n",
    "    - #### Summary\n",
    "### 6 Managing strings\n",
    "    - #### Manipulating strings\n",
    "    - #### Formatting strings\n",
    "    - #### Modifying strings\n",
    "    - #### Converting strings\n",
    "    - #### Accessing files\n",
    "    - #### Reading and writing files\n",
    "    - #### Updating file strings\n",
    "    - #### Pickling data\n",
    "    - #### Summary\n",
    "### 7 Programming objects\n",
    "    - #### Encapsulating data\n",
    "    - #### Creating instance objects\n",
    "    - #### Addressing class attributes\n",
    "    - #### Examining built-in attributes\n",
    "    - #### Collecting garbage\n",
    "    - #### Inheriting features\n",
    "    - #### Overriding base methods\n",
    "    - #### Harnessing polymorphism\n",
    "    - #### Summary\n",
    "### 8 Processing requests\n",
    "    - #### Sending responses\n",
    "    - #### Handling values\n",
    "    - #### Submitting forms\n",
    "    - #### Providing text areas\n",
    "    - #### Checking boxes\n",
    "    - #### Choosing radio buttons\n",
    "    - #### Selecting options\n",
    "    - #### Uploading files\n",
    "    - #### Summary\n",
    "### 9 Building interfaces\n",
    "    - #### Launching a window\n",
    "    - #### Responding to buttons\n",
    "    - #### Displaying messages\n",
    "    - #### Gathering entries\n",
    "    - #### Listing options\n",
    "    - #### Polling radio buttons\n",
    "    - #### Checking boxes\n",
    "    - #### Adding images\n",
    "    - #### Summary\n",
    "### 10 Developing applications\n",
    "    - #### Generating random numbers\n",
    "    - #### Planning the program\n",
    "    - #### Designing the interface\n",
    "    - #### Assigning static properties\n",
    "    - #### Initializing dynamic properties\n",
    "    - #### Adding runtime functionality\n",
    "    - #### Testing the program\n",
    "    - #### Installing a freezing tool\n",
    "    - #### Freezing the program\n",
    "    - #### Summary"
   ]
  }
 ],
 "metadata": {
  "kernelspec": {
   "display_name": "Python 3",
   "language": "python",
   "name": "python3"
  },
  "language_info": {
   "codemirror_mode": {
    "name": "ipython",
    "version": 3
   },
   "file_extension": ".py",
   "mimetype": "text/x-python",
   "name": "python",
   "nbconvert_exporter": "python",
   "pygments_lexer": "ipython3",
   "version": "3.7.1"
  }
 },
 "nbformat": 4,
 "nbformat_minor": 2
}
